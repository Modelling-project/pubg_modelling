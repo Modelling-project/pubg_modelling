{
 "cells": [
  {
   "cell_type": "markdown",
   "id": "306c5e6f",
   "metadata": {},
   "source": [
    "## PUBG Modelling"
   ]
  },
  {
   "cell_type": "markdown",
   "id": "d5ee5ad7",
   "metadata": {},
   "source": [
    "플레이어들이 전장에서 벌이는 모든 행위를 분류하여 승리를 예측하기 위한 프로젝트"
   ]
  },
  {
   "cell_type": "markdown",
   "id": "ebe999b5",
   "metadata": {},
   "source": [
    "## Column 별 정보\n",
    "- ASSISTS : 자신에 의해 사살되지는 못했지만 자신의 데미지 지분율이 가장 높은 적의 수\n",
    "- BOOSTS : 도핑 아이템 사용 횟수(에너지 드링크, 진통제, 아드레날린 주사기)\n",
    "- DAMAGEDEALT : 적에게 가한 전체 데미지\n",
    "- DBNOS : 기절시킨 적의 수\n",
    "- GROUPID : 경기 내 그룹 식별 ID\n",
    "- HEADSHOTKILLS : 헤드샷으로 죽인 적의 수\n",
    "- HEALS : 회복 아이템 사용 횟수(붕대, 구급상자, 의료용 키트)\n",
    "- ID : 해당 데이터 ID\n",
    "- KILLPLACE : 경기 내 적을 죽인 적 수의 순위\n",
    "- KILLPOINTS : 유저의 ELO레이팅(죽인 적 수 기반)\n",
    "- KILLS : 경기 내 적을 죽인 수\n",
    "- KILLSTREAKS : 짧은 시간 내에 연속으로 적을 죽인 수\n",
    "- LONGESTKILL : 사살한 적까지의 거리의 최대값\n",
    "- MATCHDURATION : 경기가 진행된 시간(단위:초)\n",
    "- MATCHID : 경기 식별 ID\n",
    "- MATCHTYPE : 경기 모드( ex: 솔로, 듀오, 스쿼드 )\n",
    "- MAXPLACE : 경기 내 총 인원 수\n",
    "- NUMGROUP : 경기 내 실제 참여 인원 수\n",
    "- RANKPOINTS : 유저의 ELO 레이팅\n",
    "- REVIVES : 유저가 팀원을 부활시킨 횟수\n",
    "- RIDEDISTANCE : 이동수단을 통해 이동한 거리(단위:m)\n",
    "- ROADKILLS : 이동수단으로 살해한 적의 수\n",
    "- SWIMDISTANCE : 수영으로 이동한 거리(단위:m)\n",
    "- TEAMKILLS : 같은 팀원을 살해한 수\n",
    "- VEHICLEDESTROYS : 파괴한 이동수단의 수\n",
    "- WALKDISTANCE : 도보로 이동한 거리(단위:m)\n",
    "- WEAPONSACQUIRED : 획득한 무기의 수\n",
    "- WINPOINTS : 유저의 ELO 레이팅(승리 횟수 기반)\n",
    "- WINPLACEPERC : 현재 경기에서의 백분위 기반 유저의 순위(종속변수)"
   ]
  },
  {
   "cell_type": "markdown",
   "id": "53b23222",
   "metadata": {},
   "source": [
    "## 라이브러리 및 데이터 불러오기"
   ]
  },
  {
   "cell_type": "code",
   "execution_count": 1,
   "id": "f20c27c1",
   "metadata": {
    "ExecuteTime": {
     "end_time": "2022-06-16T04:33:06.200650Z",
     "start_time": "2022-06-16T04:33:03.948459Z"
    }
   },
   "outputs": [
    {
     "name": "stderr",
     "output_type": "stream",
     "text": [
      "/opt/anaconda3/envs/fastcampus/lib/python3.9/site-packages/xgboost/compat.py:36: FutureWarning: pandas.Int64Index is deprecated and will be removed from pandas in a future version. Use pandas.Index with the appropriate dtype instead.\n",
      "  from pandas import MultiIndex, Int64Index\n"
     ]
    },
    {
     "name": "stdout",
     "output_type": "stream",
     "text": [
      "['test_V2.csv', 'sample_submission_V2.csv', 'train_V2.csv']\n"
     ]
    }
   ],
   "source": [
    "# 데이터 분석\n",
    "import pandas as pd\n",
    "import numpy as np\n",
    "import seaborn as sns\n",
    "import matplotlib.pyplot as plt\n",
    "%matplotlib inline\n",
    "\n",
    "# 학습을 위한 라이브러리 세팅\n",
    "from sklearn.linear_model import LinearRegression   \n",
    "from sklearn.linear_model import Lasso              \n",
    "from sklearn.linear_model import Ridge             \n",
    "from xgboost.sklearn import XGBRegressor            \n",
    "from lightgbm.sklearn import LGBMRegressor \n",
    "from sklearn.ensemble import RandomForestClassifier\n",
    "from sklearn.ensemble import RandomForestRegressor\n",
    "from lightgbm.sklearn import LGBMClassifier        \n",
    "from sklearn.metrics import mean_absolute_error\n",
    "import statsmodels.api as sm\n",
    "from sklearn.model_selection import train_test_split\n",
    "from functools import partial\n",
    "\n",
    "# VIF\n",
    "from statsmodels.stats.outliers_influence import variance_inflation_factor\n",
    "\n",
    "# Validation\n",
    "from sklearn.model_selection import KFold\n",
    "from sklearn.model_selection import cross_val_score\n",
    "\n",
    "# Hyper parameter tuning\n",
    "import optuna\n",
    "import sklearn.metrics as metrics\n",
    "\n",
    "# others \n",
    "import random\n",
    "import scipy as sp\n",
    "from scipy import stats\n",
    "import sys\n",
    "import gc\n",
    "import os\n",
    "print(os.listdir(\"./data/pubg-finish-placement-prediction/\"))\n",
    "import warnings                      \n",
    "warnings.filterwarnings(\"ignore\")"
   ]
  },
  {
   "cell_type": "code",
   "execution_count": 2,
   "id": "c0da92ee",
   "metadata": {
    "ExecuteTime": {
     "end_time": "2022-06-16T04:33:19.573549Z",
     "start_time": "2022-06-16T04:33:06.202337Z"
    }
   },
   "outputs": [],
   "source": [
    "train = pd.read_csv(\"./data/pubg-finish-placement-prediction/train_V2.csv\")\n",
    "test = pd.read_csv(\"./data/pubg-finish-placement-prediction/test_V2.csv\")\n",
    "submission = pd.read_csv(\"./data/pubg-finish-placement-prediction/sample_submission_V2.csv\")"
   ]
  },
  {
   "cell_type": "markdown",
   "id": "4f42af9a",
   "metadata": {},
   "source": [
    "## 함수"
   ]
  },
  {
   "cell_type": "code",
   "execution_count": 3,
   "id": "ecc053ff",
   "metadata": {
    "ExecuteTime": {
     "end_time": "2022-06-16T04:33:19.580359Z",
     "start_time": "2022-06-16T04:33:19.574809Z"
    }
   },
   "outputs": [],
   "source": [
    "# Memory saving function credit to https://www.kaggle.com/gemartin/load-data-reduce-memory-usage\n",
    "def reduce_mem_usage(df):\n",
    "    \"\"\" iterate through all the columns of a dataframe and modify the data type\n",
    "        to reduce memory usage.        \n",
    "    \"\"\"\n",
    "#     start_mem = df.memory_usage().sum() / 1024**2\n",
    "#     print('Memory usage of dataframe is {:.2f} MB'.format(start_mem))\n",
    "\n",
    "    for col in df.columns:\n",
    "        col_type = df[col].dtype\n",
    "\n",
    "        if col_type != object:\n",
    "            c_min = df[col].min()\n",
    "            c_max = df[col].max()\n",
    "            if str(col_type)[:3] == 'int':\n",
    "                if c_min > np.iinfo(np.int8).min and c_max < np.iinfo(np.int8).max:\n",
    "                    df[col] = df[col].astype(np.int8)\n",
    "                elif c_min > np.iinfo(np.int16).min and c_max < np.iinfo(np.int16).max:\n",
    "                    df[col] = df[col].astype(np.int16)\n",
    "                elif c_min > np.iinfo(np.int32).min and c_max < np.iinfo(np.int32).max:\n",
    "                    df[col] = df[col].astype(np.int32)\n",
    "                elif c_min > np.iinfo(np.int64).min and c_max < np.iinfo(np.int64).max:\n",
    "                    df[col] = df[col].astype(np.int64)  \n",
    "            else:\n",
    "                if c_min > np.finfo(np.float16).min and c_max < np.finfo(np.float16).max:\n",
    "                    df[col] = df[col].astype(np.float16)\n",
    "                elif c_min > np.finfo(np.float32).min and c_max < np.finfo(np.float32).max:\n",
    "                    df[col] = df[col].astype(np.float32)\n",
    "                else:\n",
    "                    df[col] = df[col].astype(np.float64)\n",
    "\n",
    "#     end_mem = df.memory_usage().sum() / 1024**2\n",
    "#     print('Memory usage after optimization is: {:.2f} MB'.format(end_mem))\n",
    "#     print('Decreased by {:.1f}%'.format(100 * (start_mem - end_mem) / start_mem))\n",
    "\n",
    "    return df"
   ]
  },
  {
   "cell_type": "code",
   "execution_count": 4,
   "id": "814d7cb7",
   "metadata": {
    "ExecuteTime": {
     "end_time": "2022-06-16T04:33:19.584505Z",
     "start_time": "2022-06-16T04:33:19.582033Z"
    }
   },
   "outputs": [],
   "source": [
    "def sorted_corr(data, column) :\n",
    "    df_corr = data.corr()\n",
    "    df_corr = df_corr.apply(lambda x: round(x ,2))\n",
    "    df_corr = df_corr.unstack()\n",
    "    df_corr = pd.DataFrame(df_corr[column][df_corr[column]<1].sort_values(ascending=False), columns=['Correlation'])\n",
    "    df_corr = df_corr.style.background_gradient(cmap='coolwarm_r')\n",
    "    return df_corr"
   ]
  },
  {
   "cell_type": "code",
   "execution_count": 5,
   "id": "f5f03b34",
   "metadata": {
    "ExecuteTime": {
     "end_time": "2022-06-16T04:33:19.589187Z",
     "start_time": "2022-06-16T04:33:19.586352Z"
    }
   },
   "outputs": [],
   "source": [
    "def toVIF(features): \n",
    "    return pd.DataFrame({\n",
    "        \"feature\": features.columns,\n",
    "        \"VIF\": [variance_inflation_factor(features.values, idx)\n",
    "                for idx in range(features.shape[1])]\n",
    "    })"
   ]
  },
  {
   "cell_type": "code",
   "execution_count": 6,
   "id": "6a68f82a",
   "metadata": {
    "ExecuteTime": {
     "end_time": "2022-06-16T04:33:19.592490Z",
     "start_time": "2022-06-16T04:33:19.590426Z"
    }
   },
   "outputs": [],
   "source": [
    "def OLS_summary(features, target):\n",
    "    sm_feature = sm.add_constant(features)\n",
    "    model = sm.OLS(target, sm_feature).fit()\n",
    "    print(model.summary2())"
   ]
  },
  {
   "cell_type": "code",
   "execution_count": 7,
   "id": "5e0b956f",
   "metadata": {
    "ExecuteTime": {
     "end_time": "2022-06-16T04:33:19.599940Z",
     "start_time": "2022-06-16T04:33:19.593857Z"
    }
   },
   "outputs": [],
   "source": [
    "from sklearn.linear_model import LinearRegression   # 1. Linear Regression\n",
    "from sklearn.linear_model import Lasso              # 2. Lasso\n",
    "from sklearn.linear_model import Ridge              # 3. Ridge\n",
    "from xgboost.sklearn import XGBRegressor            # 4. XGBoost\n",
    "from lightgbm.sklearn import LGBMRegressor          # 5. LightGBM\n",
    "from sklearn.metrics import mean_absolute_error\n",
    "\n",
    "\n",
    "def Linear_training_mae(target, features):\n",
    "    model = LinearRegression().fit(features,target)\n",
    "    pred = model.predict(features)\n",
    "    mae = np.round(mean_absolute_error(target, pred), 4)\n",
    "    return mae\n",
    "def Lasso_training_mae(target, features):\n",
    "    model = Lasso().fit(features,target)\n",
    "    pred = model.predict(features)\n",
    "    mae = np.round(mean_absolute_error(target, pred), 4)\n",
    "    return mae\n",
    "def Ridge_training_mae(target, features):\n",
    "    model = Ridge().fit(features,target)\n",
    "    pred = model.predict(features)\n",
    "    mae = np.round(mean_absolute_error(target, pred), 4)\n",
    "    return mae\n",
    "def XGB_training_mae(target, features):\n",
    "    model = XGBRegressor().fit(features,target)\n",
    "    pred = model.predict(features)\n",
    "    mae = np.round(mean_absolute_error(target, pred), 4)\n",
    "    return mae\n",
    "def LGBM_training_mae(target, features):\n",
    "    model = LGBMRegressor().fit(features,target)\n",
    "    pred = model.predict(features)\n",
    "    mae = np.round(mean_absolute_error(target, pred), 4)\n",
    "    return mae\n",
    "def trainings_mae(target, features):\n",
    "    print(\"1. Linear Regression\\t, train=%.4f\" % Linear_training_mae(target, features))\n",
    "    print(\"2. Lasso\\t\\t, train=%.4f\" % Lasso_training_mae(target, features))        \n",
    "    print(\"3. Ridge\\t\\t, train=%.4f\" % Ridge_training_mae(target, features))\n",
    "    print(\"4. XGBoost\\t\\t, train=%.4f\" % XGB_training_mae(target, features))\n",
    "    print(\"5. LightGBM\\t\\t, train=%.4f\" % LGBM_training_mae(target, features))"
   ]
  },
  {
   "cell_type": "code",
   "execution_count": 8,
   "id": "727ceaae",
   "metadata": {
    "ExecuteTime": {
     "end_time": "2022-06-16T04:33:19.604580Z",
     "start_time": "2022-06-16T04:33:19.601097Z"
    }
   },
   "outputs": [],
   "source": [
    "def one_hot_encoding(data):\n",
    "    train_OHE = pd.get_dummies(data, columns=[\"matchType\"])\n",
    "    train_OHE = reduce_mem_usage(train_OHE)\n",
    "    return train_OHE"
   ]
  },
  {
   "cell_type": "code",
   "execution_count": 9,
   "id": "6ff384cd",
   "metadata": {
    "ExecuteTime": {
     "end_time": "2022-06-16T04:33:19.608575Z",
     "start_time": "2022-06-16T04:33:19.605735Z"
    }
   },
   "outputs": [],
   "source": [
    "def ordinal_encoding(data):\n",
    "    train_OE = data.copy()\n",
    "    train_OE['matchType'] = train_OE['matchType'].map({\n",
    "        'solo':1,\n",
    "        'solo-fpp':2,\n",
    "        'duo':3,\n",
    "        'duo-fpp':4,\n",
    "        'squad':5,\n",
    "        'squad-fpp':6,\n",
    "        'normal-duo':7,\n",
    "        'normal-duo-fpp':8,\n",
    "        'normal-solo':9,\n",
    "        'normal-solo-fpp':10,\n",
    "        'normal-squad':11,\n",
    "        'normal-squad-fpp':12,\n",
    "        'crashfpp':13,\n",
    "        'crashtpp':14,\n",
    "        'flarefpp':15,\n",
    "        'flaretpp':16\n",
    "        })\n",
    "    train_OE = reduce_mem_usage(train_OE)\n",
    "    return train_OE"
   ]
  },
  {
   "cell_type": "code",
   "execution_count": 10,
   "id": "1b931324",
   "metadata": {
    "ExecuteTime": {
     "end_time": "2022-06-16T04:33:19.614621Z",
     "start_time": "2022-06-16T04:33:19.611030Z"
    }
   },
   "outputs": [],
   "source": [
    "# optuna RandomForest\n",
    "def optimizer_RF(trial, X, y, K):\n",
    "    n_estimators = trial.suggest_int(\"n_estimators\", 50, 200)\n",
    "    max_depth = trial.suggest_int(\"max_depth\", 8, 30)\n",
    "    max_features = trial.suggest_categorical(\"max_features\", ['auto', 'sqrt', 'log2'])\n",
    "    evaluation_metric = mean_absolute_error\n",
    "    \n",
    "    model = RandomForestRegressor(n_estimators=n_estimators,\n",
    "                                  max_depth=max_depth,\n",
    "                                  max_features=max_features,\n",
    "                                  n_jobs=-1,\n",
    "                                  random_state=0xC0FFEE)\n",
    "    \n",
    "    folds = KFold(n_splits=K)\n",
    "    scores = []\n",
    "    \n",
    "    for train_idx, val_idx in folds.split(X, y):\n",
    "        X_train = X.iloc[train_idx, :]\n",
    "        y_train = y.iloc[train_idx]\n",
    "        \n",
    "        X_val = X.iloc[val_idx, :]\n",
    "        y_val = y.iloc[val_idx]\n",
    "        \n",
    "        model.fit(X_train, y_train)\n",
    "        preds = model.predict(X_val)\n",
    "        score = evaluation_metric(y_val, preds)\n",
    "        scores.append(score)\n",
    "        \n",
    "    return np.mean(scores)"
   ]
  },
  {
   "cell_type": "code",
   "execution_count": 65,
   "id": "b9f74832",
   "metadata": {
    "ExecuteTime": {
     "end_time": "2022-06-16T06:16:19.799279Z",
     "start_time": "2022-06-16T06:16:19.778350Z"
    }
   },
   "outputs": [],
   "source": [
    "# Optuna LightGBM\n",
    "def optimizer_LGBM(trial, X, y, K):\n",
    "    import os\n",
    "    param = {\n",
    "        'objective': 'regression', \n",
    "        'verbose': 0,\n",
    "        'max_depth': trial.suggest_int('max_depth', 8, 20),\n",
    "        'learning_rate': trial.suggest_loguniform(\"learning_rate\", 1e-8, 1e-2),\n",
    "        'n_estimators': trial.suggest_int('n_estimators', 100, 1000),\n",
    "        #'min_child_samples': trial.suggest_int('min_child_samples', 5, 100),\n",
    "        #'subsample': trial.suggest_loguniform('subsample', 0.4, 1)\n",
    "        #\"device\" : 'gpu'\n",
    "    }\n",
    "\n",
    "    model = LGBMRegressor(**param, n_jobs=os.cpu_count())\n",
    "    evaluation_metric = mean_absolute_error\n",
    "    \n",
    "    folds = KFold(n_splits=K)\n",
    "    scores = []\n",
    "    \n",
    "    for train_idx, val_idx in folds.split(X, y):\n",
    "        \n",
    "        # X_train,X_val = X[train_idx],X[val_idx]\n",
    "        # y_train,y_val = y[train_idx],y[val_idx]\n",
    "        \n",
    "        X_train = X.iloc[train_idx, :]\n",
    "        y_train = y.iloc[train_idx]\n",
    "        \n",
    "        X_val = X.iloc[val_idx, :]\n",
    "        y_val = y.iloc[val_idx]\n",
    "        \n",
    "        model.fit(X_train, y_train, eval_set=[(X_val, y_val)], early_stopping_rounds=25)\n",
    "        preds = model.predict(X_val)\n",
    "        score = evaluation_metric(y_val, preds)\n",
    "        scores.append(score)\n",
    "    \n",
    "    return np.mean(scores)"
   ]
  },
  {
   "cell_type": "code",
   "execution_count": 12,
   "id": "819bb854",
   "metadata": {
    "ExecuteTime": {
     "end_time": "2022-06-16T04:33:19.627378Z",
     "start_time": "2022-06-16T04:33:19.621976Z"
    }
   },
   "outputs": [],
   "source": [
    "def dropOutlier (df):\n",
    "    df = df.dropna(axis=0)\n",
    "    def dropIdx(df, idx) :\n",
    "        df.drop(index=idx, inplace=True)\n",
    "        dropIdx.dpIdx_sum +=len(idx)\n",
    "        return df\n",
    "    dropIdx.dpIdx_sum = 0\n",
    "\n",
    "    print(\"Pre-Processing...\")\n",
    "    for i in df.columns.to_list() :\n",
    "        df.drop(index=df[df[i].isnull()==True].index, inplace=True)\n",
    "        \n",
    "    print(\"Droping Outliers...\")\n",
    "\n",
    "    vip_features = [\"assists\",\"boosts\",\"DBNOs\",\"heals\",\"kills\",\"killStreaks\",\"walkDistance\", \"revives\", \"roadKills\", \"vehicleDestroys\"]\n",
    "\n",
    "    group = df.groupby('groupId').count()\n",
    "    df = dropIdx(df, df[df.groupId.isin(group[group[\"Id\"]>group[\"Id\"].quantile(0.9999)].index)==True].index) #수치고려 가능\n",
    "\n",
    "    for col in (vip_features + [\"damageDealt\",\"longestKill\", \"rideDistance\", \"swimDistance\",\"weaponsAcquired\", \"matchDuration\"]):\n",
    "        df = dropIdx(df, df[df[col]>df[col].quantile(0.999)].index)\n",
    "    \n",
    "    for col in vip_features:\n",
    "        df = dropIdx(df, df[df[\"walkDistance\"]<df[col]].index)\n",
    "\n",
    "    df = dropIdx(df, df[df.groupby('matchId')['kills'].transform('max')  > df.groupby('matchId')['Id'].transform('count')  ].index)\n",
    "    df = dropIdx(df, df[(df['rideDistance']==0) & (df['roadKills']>0)  ].index)\n",
    "\n",
    "    #edge case\n",
    "    df.loc[(df.maxPlace>1)&(df.numGroups==1), \"maxPlace\"] = 1\n",
    "\n",
    "    print(f\"{dropIdx.dpIdx_sum} Columns has deleted!\") \n",
    "\n",
    "    del vip_features, group      \n",
    "    gc.collect()\n",
    "    \n",
    "    return df"
   ]
  },
  {
   "cell_type": "code",
   "execution_count": 13,
   "id": "d207d075",
   "metadata": {
    "ExecuteTime": {
     "end_time": "2022-06-16T04:33:19.633693Z",
     "start_time": "2022-06-16T04:33:19.628605Z"
    }
   },
   "outputs": [],
   "source": [
    "def feature_enginnering(df):\n",
    "    # create columns\n",
    "    print(\"Making columns...\")\n",
    "    stat_feature = [\"assists\",\"boosts\",\"DBNOs\",\"heals\",\"kills\",\"killStreaks\",\"walkDistance\", \"revives\", \"roadKills\", \"vehicleDestroys\",\"damageDealt\",\"longestKill\", \"rideDistance\", \"swimDistance\",\"weaponsAcquired\"]\n",
    "    stat_list = [\"max\",\"mean\",\"median\",\"min\"]\n",
    "    for col in stat_feature :\n",
    "        for stat in stat_list:\n",
    "            df[f\"{col}_{stat}\"] = df.groupby(\"groupId\")[col].transform(stat)\n",
    "            df[f\"{col}_{stat}_Place\"] = df.groupby(\"matchId\")[f\"{col}_{stat}\"].transform('rank', ascending=False)\n",
    "    print(len(stat_feature)*len(stat_list)+1, f\"columns Made! now {len(df.columns)}column in DF.\")\n",
    "    \n",
    "    # create kiilRank using matchId, kills \n",
    "    df[\"killRank\"] = df.groupby(\"matchId\")[\"kills\"].rank(\"dense\", ascending=False)\n",
    "    \n",
    "    # drop unnecessary columns \n",
    "    print('Dropping columns...')\n",
    "    df = df.drop([\"Id\", \"groupId\",\"matchId\"], axis=1)\n",
    "    df = ordinal_encoding(df)\n",
    "    df = df.drop(['killPlace'], axis=1)\n",
    "    df = df.drop(['damageDealt'], axis=1)\n",
    "    df = df.drop(['numGroups'], axis=1)\n",
    "    df = df.drop(['killPoints','rankPoints','winPoints'], axis=1)\n",
    "    \n",
    "    print(len(df.columns), \"columns in df\")    \n",
    "    reduce_mem_usage(df)\n",
    "    del stat_feature\n",
    "    gc.collect()\n",
    "\n",
    "    return df"
   ]
  },
  {
   "cell_type": "code",
   "execution_count": 22,
   "id": "cdcceaf7",
   "metadata": {
    "ExecuteTime": {
     "end_time": "2022-06-16T04:34:38.499600Z",
     "start_time": "2022-06-16T04:34:38.493628Z"
    }
   },
   "outputs": [],
   "source": [
    "def get_Output(df):\n",
    "    df = dropOutlier(df)\n",
    "    print(\"\\n\" + \"-\"*30 )\n",
    "    df = feature_enginnering(df)\n",
    "    return df "
   ]
  },
  {
   "cell_type": "code",
   "execution_count": 15,
   "id": "e55ac4bb",
   "metadata": {
    "ExecuteTime": {
     "end_time": "2022-06-16T04:33:19.641324Z",
     "start_time": "2022-06-16T04:33:19.639186Z"
    }
   },
   "outputs": [],
   "source": [
    "def sampling(df,n):\n",
    "    idx = sorted(np.random.permutation(len(df))[:n])\n",
    "    return df.iloc[idx].copy()"
   ]
  },
  {
   "cell_type": "code",
   "execution_count": 29,
   "id": "e1d2c589",
   "metadata": {
    "ExecuteTime": {
     "end_time": "2022-06-16T04:44:29.562092Z",
     "start_time": "2022-06-16T04:44:29.554472Z"
    }
   },
   "outputs": [],
   "source": [
    "def split_Target(df):\n",
    "    target = df_sample['winPlacePerc']\n",
    "    features = df_sample.drop(['winPlacePerc'], axis=1)\n",
    "    return target, features"
   ]
  },
  {
   "cell_type": "markdown",
   "id": "93d06552",
   "metadata": {},
   "source": [
    "## 결측치 처리"
   ]
  },
  {
   "cell_type": "code",
   "execution_count": 16,
   "id": "b8f8f57b",
   "metadata": {
    "ExecuteTime": {
     "end_time": "2022-06-16T04:33:29.222716Z",
     "start_time": "2022-06-16T04:33:25.637525Z"
    }
   },
   "outputs": [],
   "source": [
    "train = reduce_mem_usage(train)\n",
    "test = reduce_mem_usage(test)"
   ]
  },
  {
   "cell_type": "code",
   "execution_count": 17,
   "id": "e0b71db2",
   "metadata": {
    "ExecuteTime": {
     "end_time": "2022-06-16T04:33:31.844113Z",
     "start_time": "2022-06-16T04:33:31.823706Z"
    },
    "collapsed": true
   },
   "outputs": [
    {
     "name": "stdout",
     "output_type": "stream",
     "text": [
      "<class 'pandas.core.frame.DataFrame'>\n",
      "RangeIndex: 4446966 entries, 0 to 4446965\n",
      "Data columns (total 29 columns):\n",
      " #   Column           Dtype  \n",
      "---  ------           -----  \n",
      " 0   Id               object \n",
      " 1   groupId          object \n",
      " 2   matchId          object \n",
      " 3   assists          int8   \n",
      " 4   boosts           int8   \n",
      " 5   damageDealt      float16\n",
      " 6   DBNOs            int8   \n",
      " 7   headshotKills    int8   \n",
      " 8   heals            int8   \n",
      " 9   killPlace        int8   \n",
      " 10  killPoints       int16  \n",
      " 11  kills            int8   \n",
      " 12  killStreaks      int8   \n",
      " 13  longestKill      float16\n",
      " 14  matchDuration    int16  \n",
      " 15  matchType        object \n",
      " 16  maxPlace         int8   \n",
      " 17  numGroups        int8   \n",
      " 18  rankPoints       int16  \n",
      " 19  revives          int8   \n",
      " 20  rideDistance     float16\n",
      " 21  roadKills        int8   \n",
      " 22  swimDistance     float16\n",
      " 23  teamKills        int8   \n",
      " 24  vehicleDestroys  int8   \n",
      " 25  walkDistance     float16\n",
      " 26  weaponsAcquired  int16  \n",
      " 27  winPoints        int16  \n",
      " 28  winPlacePerc     float16\n",
      "dtypes: float16(6), int16(5), int8(14), object(4)\n",
      "memory usage: 288.4+ MB\n"
     ]
    }
   ],
   "source": [
    "train.info()"
   ]
  },
  {
   "cell_type": "code",
   "execution_count": 18,
   "id": "806c39b3",
   "metadata": {
    "ExecuteTime": {
     "end_time": "2022-06-16T04:33:35.768702Z",
     "start_time": "2022-06-16T04:33:33.961888Z"
    },
    "collapsed": true
   },
   "outputs": [
    {
     "data": {
      "text/plain": [
       "Id                 0\n",
       "groupId            0\n",
       "matchId            0\n",
       "assists            0\n",
       "boosts             0\n",
       "damageDealt        0\n",
       "DBNOs              0\n",
       "headshotKills      0\n",
       "heals              0\n",
       "killPlace          0\n",
       "killPoints         0\n",
       "kills              0\n",
       "killStreaks        0\n",
       "longestKill        0\n",
       "matchDuration      0\n",
       "matchType          0\n",
       "maxPlace           0\n",
       "numGroups          0\n",
       "rankPoints         0\n",
       "revives            0\n",
       "rideDistance       0\n",
       "roadKills          0\n",
       "swimDistance       0\n",
       "teamKills          0\n",
       "vehicleDestroys    0\n",
       "walkDistance       0\n",
       "weaponsAcquired    0\n",
       "winPoints          0\n",
       "winPlacePerc       1\n",
       "dtype: int64"
      ]
     },
     "execution_count": 18,
     "metadata": {},
     "output_type": "execute_result"
    }
   ],
   "source": [
    "train.isna().sum()"
   ]
  },
  {
   "cell_type": "code",
   "execution_count": 19,
   "id": "4187e70d",
   "metadata": {
    "ExecuteTime": {
     "end_time": "2022-06-16T04:33:38.100424Z",
     "start_time": "2022-06-16T04:33:35.961942Z"
    }
   },
   "outputs": [],
   "source": [
    "train = train.dropna(axis=0)"
   ]
  },
  {
   "cell_type": "code",
   "execution_count": 20,
   "id": "3afc28b4",
   "metadata": {
    "ExecuteTime": {
     "end_time": "2022-06-16T04:33:39.864322Z",
     "start_time": "2022-06-16T04:33:38.101841Z"
    },
    "collapsed": true
   },
   "outputs": [
    {
     "data": {
      "text/plain": [
       "Id                 0\n",
       "groupId            0\n",
       "matchId            0\n",
       "assists            0\n",
       "boosts             0\n",
       "damageDealt        0\n",
       "DBNOs              0\n",
       "headshotKills      0\n",
       "heals              0\n",
       "killPlace          0\n",
       "killPoints         0\n",
       "kills              0\n",
       "killStreaks        0\n",
       "longestKill        0\n",
       "matchDuration      0\n",
       "matchType          0\n",
       "maxPlace           0\n",
       "numGroups          0\n",
       "rankPoints         0\n",
       "revives            0\n",
       "rideDistance       0\n",
       "roadKills          0\n",
       "swimDistance       0\n",
       "teamKills          0\n",
       "vehicleDestroys    0\n",
       "walkDistance       0\n",
       "weaponsAcquired    0\n",
       "winPoints          0\n",
       "winPlacePerc       0\n",
       "dtype: int64"
      ]
     },
     "execution_count": 20,
     "metadata": {},
     "output_type": "execute_result"
    }
   ],
   "source": [
    "train.isna().sum()"
   ]
  },
  {
   "cell_type": "markdown",
   "id": "77f2aaef",
   "metadata": {},
   "source": [
    "## Modelling"
   ]
  },
  {
   "cell_type": "code",
   "execution_count": 23,
   "id": "4a5c5f37",
   "metadata": {
    "ExecuteTime": {
     "end_time": "2022-06-16T04:41:56.803862Z",
     "start_time": "2022-06-16T04:34:42.936240Z"
    }
   },
   "outputs": [
    {
     "name": "stdout",
     "output_type": "stream",
     "text": [
      "Pre-Processing...\n",
      "Droping Outliers...\n",
      "57412 Columns has deleted!\n",
      "\n",
      "------------------------------\n",
      "Making columns...\n",
      "61 columns Made! now 149column in DF.\n",
      "Dropping columns...\n",
      "141 columns in df\n"
     ]
    }
   ],
   "source": [
    "n = len(train) // 10 \n",
    "df_sample = sampling(train, n) \n",
    "df_sample = get_Output(train)\n",
    "df_sample.shape"
   ]
  },
  {
   "cell_type": "code",
   "execution_count": 34,
   "id": "e740c6e3",
   "metadata": {
    "ExecuteTime": {
     "end_time": "2022-06-16T04:46:21.645357Z",
     "start_time": "2022-06-16T04:45:21.751617Z"
    }
   },
   "outputs": [
    {
     "data": {
      "text/plain": [
       "0.0602"
      ]
     },
     "execution_count": 34,
     "metadata": {},
     "output_type": "execute_result"
    }
   ],
   "source": [
    "target, features = split_Target(df_sample)\n",
    "LGBM_training_mae(target,features)"
   ]
  },
  {
   "cell_type": "code",
   "execution_count": null,
   "id": "e9350683",
   "metadata": {
    "ExecuteTime": {
     "end_time": "2022-06-16T05:11:48.720853Z",
     "start_time": "2022-06-16T05:11:48.720842Z"
    }
   },
   "outputs": [],
   "source": [
    "df = get_Output(train)"
   ]
  },
  {
   "cell_type": "code",
   "execution_count": null,
   "id": "026a1203",
   "metadata": {},
   "outputs": [],
   "source": [
    "target, features = split_Target(df_sample)\n",
    "LGBM_training_mae(target,features)"
   ]
  },
  {
   "cell_type": "markdown",
   "id": "2d953ac5",
   "metadata": {},
   "source": [
    "## Hyper parameter tuning"
   ]
  },
  {
   "cell_type": "code",
   "execution_count": 39,
   "id": "fdf57ba2",
   "metadata": {
    "ExecuteTime": {
     "end_time": "2022-06-16T05:23:31.336167Z",
     "start_time": "2022-06-16T05:23:21.374506Z"
    }
   },
   "outputs": [
    {
     "name": "stdout",
     "output_type": "stream",
     "text": [
      "(2633731, 140) (877911, 140) (877911, 140) (2633731,) (877911,) (877911,)\n"
     ]
    },
    {
     "data": {
      "text/plain": [
       "10869"
      ]
     },
     "execution_count": 39,
     "metadata": {},
     "output_type": "execute_result"
    }
   ],
   "source": [
    "target, features = split_Target(df_sample)\n",
    "X = features\n",
    "y = target\n",
    "\n",
    "X_train, X_test, y_train, y_test = train_test_split(X, y, test_size=0.2, random_state=0xC0FFEE)\n",
    "\n",
    "X_train, X_val, y_train, y_val = train_test_split(X_train, y_train, test_size=0.25, random_state=0xC0FFEE)\n",
    "\n",
    "print(X_train.shape, X_val.shape, X_test.shape, y_train.shape, y_val.shape, y_test.shape)\n",
    "gc.collect()"
   ]
  },
  {
   "cell_type": "code",
   "execution_count": null,
   "id": "3437ff19",
   "metadata": {},
   "outputs": [],
   "source": [
    "from sklearn.model_selection import GridSearchCV\n",
    "model = LGBMRegressor()\n",
    "param_grid = {\n",
    "    \"objective\": \"regression\", \n",
    "    \"metric\" : \"mae\",\n",
    "    \"verbose\" : [-1], \n",
    "    \"max_depth\" : [3, 4, -1],\n",
    "    \"n_estimators\" : [50, 100],\n",
    "    \"learning_rate\" : [0.01, 0.001, 0.0025],\n",
    "}\n",
    "\n",
    "gcv = GridSearchCV(estimator=model, param_grid=param_grid, cv=5,\n",
    "                  n_jobs=-1, verbose=1)\n",
    "\n",
    "gcv.fit(X_train, y_train)\n",
    "print(\"Best Estimator : \", gcv.best_estimator_)"
   ]
  },
  {
   "cell_type": "code",
   "execution_count": null,
   "id": "8a3f56fe",
   "metadata": {},
   "outputs": [],
   "source": [
    "print(\"Prediction with Best Estimator\")\n",
    "gcv_pred_train = gcv.predict(X_train)\n",
    "gcv_pred_test = gcv.predict(X_test)\n",
    "\n",
    "gcv_train_score = evaluation_metric(y_train, gcv_pred_train)\n",
    "gcv_test_score = evaluation_metric(y_test, gcv_pred_test)\n",
    "\n",
    "print(\"Train MAE Score : %.4f\" % gcv_train_score)\n",
    "print(\"Test MAE Score : %.4f\" % gcv_test_score)"
   ]
  },
  {
   "cell_type": "code",
   "execution_count": null,
   "id": "2a370b20",
   "metadata": {},
   "outputs": [],
   "source": [
    "print(\"Performance Gain\")\n",
    "print(\"in train : \", (train_score - gcv_train_score))\n",
    "print(\"in test : \", (test_score - gcv_test_score))"
   ]
  },
  {
   "cell_type": "markdown",
   "id": "96784536",
   "metadata": {
    "ExecuteTime": {
     "end_time": "2022-06-16T05:45:35.306706Z",
     "start_time": "2022-06-16T05:45:35.306696Z"
    }
   },
   "source": [
    "## 최종 모델"
   ]
  },
  {
   "cell_type": "markdown",
   "id": "86e6ec3f",
   "metadata": {},
   "source": [
    "No hyper parameter tuning "
   ]
  },
  {
   "cell_type": "code",
   "execution_count": 81,
   "id": "2dadeb9d",
   "metadata": {
    "ExecuteTime": {
     "end_time": "2022-06-16T07:05:57.411964Z",
     "start_time": "2022-06-16T07:05:47.722255Z"
    }
   },
   "outputs": [
    {
     "name": "stdout",
     "output_type": "stream",
     "text": [
      "(2633731, 140) (877911, 140) (877911, 140) (2633731,) (877911,) (877911,)\n"
     ]
    },
    {
     "data": {
      "text/plain": [
       "1828"
      ]
     },
     "execution_count": 81,
     "metadata": {},
     "output_type": "execute_result"
    }
   ],
   "source": [
    "target, features = split_Target(df_sample)\n",
    "X = features\n",
    "y = target\n",
    "\n",
    "X_train, X_test, y_train, y_test = train_test_split(X, y, test_size=0.2, random_state=0xC0FFEE)\n",
    "\n",
    "X_train, X_val, y_train, y_val = train_test_split(X_train, y_train, test_size=0.25, random_state=0xC0FFEE)\n",
    "\n",
    "print(X_train.shape, X_val.shape, X_test.shape, y_train.shape, y_val.shape, y_test.shape)\n",
    "gc.collect()"
   ]
  },
  {
   "cell_type": "code",
   "execution_count": 82,
   "id": "c66705ac",
   "metadata": {
    "ExecuteTime": {
     "end_time": "2022-06-16T07:19:17.477372Z",
     "start_time": "2022-06-16T07:05:57.414013Z"
    }
   },
   "outputs": [
    {
     "name": "stderr",
     "output_type": "stream",
     "text": [
      "\n",
      "KeyboardInterrupt\n",
      "\n"
     ]
    }
   ],
   "source": [
    "model = LGBMRegressor()\n",
    "model.fit(X_train, y_train)\n",
    "pred = model.predict(features)\n",
    "mae = np.round(mean_absolute_error(target, pred), 4)\n",
    "mae"
   ]
  },
  {
   "cell_type": "markdown",
   "id": "0bdf9ba2",
   "metadata": {},
   "source": [
    "After hyper parameter tuning"
   ]
  },
  {
   "cell_type": "code",
   "execution_count": 74,
   "id": "46aab4e2",
   "metadata": {
    "ExecuteTime": {
     "end_time": "2022-06-16T06:48:20.635415Z",
     "start_time": "2022-06-16T06:48:11.890212Z"
    }
   },
   "outputs": [
    {
     "name": "stdout",
     "output_type": "stream",
     "text": [
      "(2633731, 140) (877911, 140) (877911, 140) (2633731,) (877911,) (877911,)\n"
     ]
    },
    {
     "data": {
      "text/plain": [
       "48"
      ]
     },
     "execution_count": 74,
     "metadata": {},
     "output_type": "execute_result"
    }
   ],
   "source": [
    "target, features = split_Target(df_sample3)\n",
    "X = features\n",
    "y = target\n",
    "\n",
    "X_train, X_test, y_train, y_test = train_test_split(X, y, test_size=0.2, random_state=0xC0FFEE)\n",
    "\n",
    "X_train, X_val, y_train, y_val = train_test_split(X_train, y_train, test_size=0.25, random_state=0xC0FFEE)\n",
    "\n",
    "print(X_train.shape, X_val.shape, X_test.shape, y_train.shape, y_val.shape, y_test.shape)\n",
    "gc.collect()"
   ]
  },
  {
   "cell_type": "code",
   "execution_count": 80,
   "id": "6d76d0a6",
   "metadata": {
    "ExecuteTime": {
     "end_time": "2022-06-16T06:57:59.248093Z",
     "start_time": "2022-06-16T06:55:52.436101Z"
    }
   },
   "outputs": [
    {
     "name": "stdout",
     "output_type": "stream",
     "text": [
      "[LightGBM] [Warning] Accuracy may be bad since you didn't explicitly set num_leaves OR 2^max_depth > num_leaves. (num_leaves=31).\n",
      "[LightGBM] [Warning] Accuracy may be bad since you didn't explicitly set num_leaves OR 2^max_depth > num_leaves. (num_leaves=31).\n",
      "[LightGBM] [Warning] Auto-choosing row-wise multi-threading, the overhead of testing was 0.303950 seconds.\n",
      "You can set `force_row_wise=true` to remove the overhead.\n",
      "And if memory is not enough, you can set `force_col_wise=true`.\n"
     ]
    },
    {
     "data": {
      "text/plain": [
       "0.2665"
      ]
     },
     "execution_count": 80,
     "metadata": {},
     "output_type": "execute_result"
    }
   ],
   "source": [
    "'''\n",
    "max_depth\" : [3, 4, -1],\n",
    "\"n_estimators\" : [50, 100],\n",
    "\"learning_rate\" : [0.01, 0.001, 0.0025],\n",
    "'''\n",
    "param = {\n",
    "    'objective': 'regression', \n",
    "    'metric' : 'mae',\n",
    "    'verbose' : 0,\n",
    "    'max_depth': 15, \n",
    "    'learning_rate': 1.5863485994081626e-08,\n",
    "    'n_estimators': 459,\n",
    "    \n",
    "}\n",
    "\n",
    "model = LGBMRegressor(**param)\n",
    "model.fit(X_train, y_train)\n",
    "pred = model.predict(features)\n",
    "mae = np.round(mean_absolute_error(target, pred), 4)\n",
    "mae"
   ]
  }
 ],
 "metadata": {
  "kernelspec": {
   "display_name": "Python 3 (ipykernel)",
   "language": "python",
   "name": "python3"
  },
  "language_info": {
   "codemirror_mode": {
    "name": "ipython",
    "version": 3
   },
   "file_extension": ".py",
   "mimetype": "text/x-python",
   "name": "python",
   "nbconvert_exporter": "python",
   "pygments_lexer": "ipython3",
   "version": "3.9.12"
  },
  "toc": {
   "base_numbering": 1,
   "nav_menu": {},
   "number_sections": true,
   "sideBar": true,
   "skip_h1_title": false,
   "title_cell": "Table of Contents",
   "title_sidebar": "Contents",
   "toc_cell": false,
   "toc_position": {},
   "toc_section_display": true,
   "toc_window_display": false
  }
 },
 "nbformat": 4,
 "nbformat_minor": 5
}
