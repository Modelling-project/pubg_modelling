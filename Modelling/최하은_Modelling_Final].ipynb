{
  "cells": [
    {
      "cell_type": "markdown",
      "id": "8f3119aa",
      "metadata": {
        "id": "8f3119aa"
      },
      "source": [
        "## Machine Learning 프로젝트 수행을 위한 코드 구조화\n",
        "\n",
        "`(분류, 회귀 Task)`"
      ]
    },
    {
      "cell_type": "markdown",
      "id": "9f7610ea",
      "metadata": {
        "id": "9f7610ea"
      },
      "source": [
        "- ML project를 위해서 사용하는 템플릿 코드를 만듭니다.\n",
        "\n",
        "1. **필요한 라이브러리와 데이터를 불러옵니다.**\n",
        "\n",
        "\n",
        "2. **EDA를 수행합니다.** 이 때 EDA의 목적은 풀어야하는 문제를 위해서 수행됩니다.\n",
        "\n",
        "\n",
        "3. **전처리를 수행합니다.** 이 때 중요한건 **feature engineering**을 어떻게 하느냐 입니다.\n",
        "\n",
        "\n",
        "4. **데이터 분할을 합니다.** 이 때 train data와 test data 간의 분포 차이가 없는지 확인합니다.\n",
        "\n",
        "\n",
        "5. **학습을 진행합니다.** 어떤 모델을 사용하여 학습할지 정합니다. 성능이 잘 나오는 GBM을 추천합니다.\n",
        "\n",
        "\n",
        "6. **hyper-parameter tuning을 수행합니다.** 원하는 목표 성능이 나올 때 까지 진행합니다. 검증 단계를 통해 지속적으로 **overfitting이 되지 않게 주의**하세요.\n",
        "\n",
        "\n",
        "7. **최종 테스트를 진행합니다.** 데이터 분석 대회 포맷에 맞는 submission 파일을 만들어서 성능을 확인해보세요."
      ]
    },
    {
      "cell_type": "markdown",
      "id": "bd2f7530",
      "metadata": {
        "id": "bd2f7530"
      },
      "source": [
        "## 1. 라이브러리, 데이터 불러오기"
      ]
    },
    {
      "cell_type": "code",
      "execution_count": null,
      "id": "3d059090",
      "metadata": {
        "id": "3d059090",
        "outputId": "ed4b70fc-a23b-4eca-c0d6-528c2ec8edd8"
      },
      "outputs": [
        {
          "name": "stdout",
          "output_type": "stream",
          "text": [
            "Requirement already satisfied: pip in /Users/krc/miniforge3/envs/krc/lib/python3.8/site-packages (21.3.1)\n",
            "Collecting pip\n",
            "  Downloading pip-22.1.2-py3-none-any.whl (2.1 MB)\n",
            "     |████████████████████████████████| 2.1 MB 9.5 MB/s            \n",
            "\u001b[?25hInstalling collected packages: pip\n",
            "  Attempting uninstall: pip\n",
            "    Found existing installation: pip 21.3.1\n",
            "    Uninstalling pip-21.3.1:\n",
            "      Successfully uninstalled pip-21.3.1\n",
            "Successfully installed pip-22.1.2\n"
          ]
        }
      ],
      "source": [
        "# jupyter LGBM 설치 오류 관련\n",
        "\n",
        "# !pip install –upgrade wheel \n",
        "# !pip install –upgrade setuptools\n",
        "# !pip install gensim \n",
        "# !pip3 install gensim\n",
        "# !pip install pip==21.3.1\n",
        "!pip install --upgrade pip\n",
        "        "
      ]
    },
    {
      "cell_type": "code",
      "execution_count": 1,
      "id": "125fc348",
      "metadata": {
        "colab": {
          "base_uri": "https://localhost:8080/"
        },
        "id": "125fc348",
        "outputId": "aca8e7ab-21f3-4c1b-d57c-a7b8af887be4"
      },
      "outputs": [
        {
          "output_type": "stream",
          "name": "stderr",
          "text": [
            "/usr/local/lib/python3.7/dist-packages/statsmodels/tools/_testing.py:19: FutureWarning: pandas.util.testing is deprecated. Use the functions in the public API at pandas.testing instead.\n",
            "  import pandas.util.testing as tm\n"
          ]
        },
        {
          "output_type": "stream",
          "name": "stdout",
          "text": [
            "\u001b[K     |████████████████████████████████| 308 kB 5.1 MB/s \n",
            "\u001b[K     |████████████████████████████████| 81 kB 6.9 MB/s \n",
            "\u001b[K     |████████████████████████████████| 209 kB 45.6 MB/s \n",
            "\u001b[K     |████████████████████████████████| 78 kB 4.9 MB/s \n",
            "\u001b[K     |████████████████████████████████| 146 kB 47.8 MB/s \n",
            "\u001b[K     |████████████████████████████████| 49 kB 2.2 MB/s \n",
            "\u001b[K     |████████████████████████████████| 112 kB 45.2 MB/s \n",
            "\u001b[?25h  Building wheel for pyperclip (setup.py) ... \u001b[?25l\u001b[?25hdone\n"
          ]
        }
      ],
      "source": [
        "# 데이터분석 4종 세트\n",
        "import numpy as np\n",
        "import pandas as pd\n",
        "import matplotlib.pyplot as plt\n",
        "import seaborn as sns\n",
        "\n",
        "# 모델들, 성능 평가\n",
        "# (저는 일반적으로 정형데이터로 머신러닝 분석할 때는 이 2개 모델은 그냥 돌려봅니다. 특히 RF가 테스트하기 좋습니다.)\n",
        "# !pip install lightgbm\n",
        "# from sklearn.ensemble import RandomForestRegressor\n",
        "# from lightgbm.sklearn import LGBMRegressor\n",
        "\n",
        "# 상관관계 분석, VIF : 다중공선성 제거\n",
        "from statsmodels.stats.outliers_influence import variance_inflation_factor\n",
        "\n",
        "# KFold(CV), partial : optuna를 사용하기 위함\n",
        "from sklearn.model_selection import KFold\n",
        "from functools import partial\n",
        "\n",
        "# hyper-parameter tuning을 위한 라이브러리, optuna\n",
        "!pip install --quiet optuna\n",
        "import optuna"
      ]
    },
    {
      "cell_type": "code",
      "execution_count": 20,
      "id": "xfoD28q6xODU",
      "metadata": {
        "id": "xfoD28q6xODU",
        "outputId": "b58f3b4f-25ca-40eb-c94f-bdfdfc85ecab",
        "colab": {
          "base_uri": "https://localhost:8080/",
          "height": 390
        }
      },
      "outputs": [
        {
          "output_type": "error",
          "ename": "FileNotFoundError",
          "evalue": "ignored",
          "traceback": [
            "\u001b[0;31m---------------------------------------------------------------------------\u001b[0m",
            "\u001b[0;31mFileNotFoundError\u001b[0m                         Traceback (most recent call last)",
            "\u001b[0;32m<ipython-input-20-968420ef830c>\u001b[0m in \u001b[0;36m<module>\u001b[0;34m()\u001b[0m\n\u001b[1;32m      3\u001b[0m \u001b[0;31m#base_path = '폴더 경로복사하고, 끝에 / 붙이기'\u001b[0m\u001b[0;34m\u001b[0m\u001b[0;34m\u001b[0m\u001b[0;34m\u001b[0m\u001b[0m\n\u001b[1;32m      4\u001b[0m \u001b[0;34m\u001b[0m\u001b[0m\n\u001b[0;32m----> 5\u001b[0;31m \u001b[0mtrain\u001b[0m \u001b[0;34m=\u001b[0m \u001b[0mpd\u001b[0m\u001b[0;34m.\u001b[0m\u001b[0mread_csv\u001b[0m\u001b[0;34m(\u001b[0m\u001b[0;34m'pubg-finish-placement-prediction/train_V2.csv'\u001b[0m\u001b[0;34m)\u001b[0m\u001b[0;34m\u001b[0m\u001b[0;34m\u001b[0m\u001b[0m\n\u001b[0m\u001b[1;32m      6\u001b[0m \u001b[0mtest\u001b[0m \u001b[0;34m=\u001b[0m \u001b[0mpd\u001b[0m\u001b[0;34m.\u001b[0m\u001b[0mread_csv\u001b[0m\u001b[0;34m(\u001b[0m\u001b[0;34m'pubg-finish-placement-prediction/test_V2.csv'\u001b[0m\u001b[0;34m)\u001b[0m\u001b[0;34m\u001b[0m\u001b[0;34m\u001b[0m\u001b[0m\n\u001b[1;32m      7\u001b[0m \u001b[0msubmission\u001b[0m \u001b[0;34m=\u001b[0m \u001b[0mpd\u001b[0m\u001b[0;34m.\u001b[0m\u001b[0mread_csv\u001b[0m\u001b[0;34m(\u001b[0m\u001b[0;34m'pubg-finish-placement-prediction/sample_submission_V2.csv'\u001b[0m\u001b[0;34m)\u001b[0m\u001b[0;34m\u001b[0m\u001b[0;34m\u001b[0m\u001b[0m\n",
            "\u001b[0;32m/usr/local/lib/python3.7/dist-packages/pandas/util/_decorators.py\u001b[0m in \u001b[0;36mwrapper\u001b[0;34m(*args, **kwargs)\u001b[0m\n\u001b[1;32m    309\u001b[0m                     \u001b[0mstacklevel\u001b[0m\u001b[0;34m=\u001b[0m\u001b[0mstacklevel\u001b[0m\u001b[0;34m,\u001b[0m\u001b[0;34m\u001b[0m\u001b[0;34m\u001b[0m\u001b[0m\n\u001b[1;32m    310\u001b[0m                 )\n\u001b[0;32m--> 311\u001b[0;31m             \u001b[0;32mreturn\u001b[0m \u001b[0mfunc\u001b[0m\u001b[0;34m(\u001b[0m\u001b[0;34m*\u001b[0m\u001b[0margs\u001b[0m\u001b[0;34m,\u001b[0m \u001b[0;34m**\u001b[0m\u001b[0mkwargs\u001b[0m\u001b[0;34m)\u001b[0m\u001b[0;34m\u001b[0m\u001b[0;34m\u001b[0m\u001b[0m\n\u001b[0m\u001b[1;32m    312\u001b[0m \u001b[0;34m\u001b[0m\u001b[0m\n\u001b[1;32m    313\u001b[0m         \u001b[0;32mreturn\u001b[0m \u001b[0mwrapper\u001b[0m\u001b[0;34m\u001b[0m\u001b[0;34m\u001b[0m\u001b[0m\n",
            "\u001b[0;32m/usr/local/lib/python3.7/dist-packages/pandas/io/parsers/readers.py\u001b[0m in \u001b[0;36mread_csv\u001b[0;34m(filepath_or_buffer, sep, delimiter, header, names, index_col, usecols, squeeze, prefix, mangle_dupe_cols, dtype, engine, converters, true_values, false_values, skipinitialspace, skiprows, skipfooter, nrows, na_values, keep_default_na, na_filter, verbose, skip_blank_lines, parse_dates, infer_datetime_format, keep_date_col, date_parser, dayfirst, cache_dates, iterator, chunksize, compression, thousands, decimal, lineterminator, quotechar, quoting, doublequote, escapechar, comment, encoding, encoding_errors, dialect, error_bad_lines, warn_bad_lines, on_bad_lines, delim_whitespace, low_memory, memory_map, float_precision, storage_options)\u001b[0m\n\u001b[1;32m    584\u001b[0m     \u001b[0mkwds\u001b[0m\u001b[0;34m.\u001b[0m\u001b[0mupdate\u001b[0m\u001b[0;34m(\u001b[0m\u001b[0mkwds_defaults\u001b[0m\u001b[0;34m)\u001b[0m\u001b[0;34m\u001b[0m\u001b[0;34m\u001b[0m\u001b[0m\n\u001b[1;32m    585\u001b[0m \u001b[0;34m\u001b[0m\u001b[0m\n\u001b[0;32m--> 586\u001b[0;31m     \u001b[0;32mreturn\u001b[0m \u001b[0m_read\u001b[0m\u001b[0;34m(\u001b[0m\u001b[0mfilepath_or_buffer\u001b[0m\u001b[0;34m,\u001b[0m \u001b[0mkwds\u001b[0m\u001b[0;34m)\u001b[0m\u001b[0;34m\u001b[0m\u001b[0;34m\u001b[0m\u001b[0m\n\u001b[0m\u001b[1;32m    587\u001b[0m \u001b[0;34m\u001b[0m\u001b[0m\n\u001b[1;32m    588\u001b[0m \u001b[0;34m\u001b[0m\u001b[0m\n",
            "\u001b[0;32m/usr/local/lib/python3.7/dist-packages/pandas/io/parsers/readers.py\u001b[0m in \u001b[0;36m_read\u001b[0;34m(filepath_or_buffer, kwds)\u001b[0m\n\u001b[1;32m    480\u001b[0m \u001b[0;34m\u001b[0m\u001b[0m\n\u001b[1;32m    481\u001b[0m     \u001b[0;31m# Create the parser.\u001b[0m\u001b[0;34m\u001b[0m\u001b[0;34m\u001b[0m\u001b[0;34m\u001b[0m\u001b[0m\n\u001b[0;32m--> 482\u001b[0;31m     \u001b[0mparser\u001b[0m \u001b[0;34m=\u001b[0m \u001b[0mTextFileReader\u001b[0m\u001b[0;34m(\u001b[0m\u001b[0mfilepath_or_buffer\u001b[0m\u001b[0;34m,\u001b[0m \u001b[0;34m**\u001b[0m\u001b[0mkwds\u001b[0m\u001b[0;34m)\u001b[0m\u001b[0;34m\u001b[0m\u001b[0;34m\u001b[0m\u001b[0m\n\u001b[0m\u001b[1;32m    483\u001b[0m \u001b[0;34m\u001b[0m\u001b[0m\n\u001b[1;32m    484\u001b[0m     \u001b[0;32mif\u001b[0m \u001b[0mchunksize\u001b[0m \u001b[0;32mor\u001b[0m \u001b[0miterator\u001b[0m\u001b[0;34m:\u001b[0m\u001b[0;34m\u001b[0m\u001b[0;34m\u001b[0m\u001b[0m\n",
            "\u001b[0;32m/usr/local/lib/python3.7/dist-packages/pandas/io/parsers/readers.py\u001b[0m in \u001b[0;36m__init__\u001b[0;34m(self, f, engine, **kwds)\u001b[0m\n\u001b[1;32m    809\u001b[0m             \u001b[0mself\u001b[0m\u001b[0;34m.\u001b[0m\u001b[0moptions\u001b[0m\u001b[0;34m[\u001b[0m\u001b[0;34m\"has_index_names\"\u001b[0m\u001b[0;34m]\u001b[0m \u001b[0;34m=\u001b[0m \u001b[0mkwds\u001b[0m\u001b[0;34m[\u001b[0m\u001b[0;34m\"has_index_names\"\u001b[0m\u001b[0;34m]\u001b[0m\u001b[0;34m\u001b[0m\u001b[0;34m\u001b[0m\u001b[0m\n\u001b[1;32m    810\u001b[0m \u001b[0;34m\u001b[0m\u001b[0m\n\u001b[0;32m--> 811\u001b[0;31m         \u001b[0mself\u001b[0m\u001b[0;34m.\u001b[0m\u001b[0m_engine\u001b[0m \u001b[0;34m=\u001b[0m \u001b[0mself\u001b[0m\u001b[0;34m.\u001b[0m\u001b[0m_make_engine\u001b[0m\u001b[0;34m(\u001b[0m\u001b[0mself\u001b[0m\u001b[0;34m.\u001b[0m\u001b[0mengine\u001b[0m\u001b[0;34m)\u001b[0m\u001b[0;34m\u001b[0m\u001b[0;34m\u001b[0m\u001b[0m\n\u001b[0m\u001b[1;32m    812\u001b[0m \u001b[0;34m\u001b[0m\u001b[0m\n\u001b[1;32m    813\u001b[0m     \u001b[0;32mdef\u001b[0m \u001b[0mclose\u001b[0m\u001b[0;34m(\u001b[0m\u001b[0mself\u001b[0m\u001b[0;34m)\u001b[0m\u001b[0;34m:\u001b[0m\u001b[0;34m\u001b[0m\u001b[0;34m\u001b[0m\u001b[0m\n",
            "\u001b[0;32m/usr/local/lib/python3.7/dist-packages/pandas/io/parsers/readers.py\u001b[0m in \u001b[0;36m_make_engine\u001b[0;34m(self, engine)\u001b[0m\n\u001b[1;32m   1038\u001b[0m             )\n\u001b[1;32m   1039\u001b[0m         \u001b[0;31m# error: Too many arguments for \"ParserBase\"\u001b[0m\u001b[0;34m\u001b[0m\u001b[0;34m\u001b[0m\u001b[0;34m\u001b[0m\u001b[0m\n\u001b[0;32m-> 1040\u001b[0;31m         \u001b[0;32mreturn\u001b[0m \u001b[0mmapping\u001b[0m\u001b[0;34m[\u001b[0m\u001b[0mengine\u001b[0m\u001b[0;34m]\u001b[0m\u001b[0;34m(\u001b[0m\u001b[0mself\u001b[0m\u001b[0;34m.\u001b[0m\u001b[0mf\u001b[0m\u001b[0;34m,\u001b[0m \u001b[0;34m**\u001b[0m\u001b[0mself\u001b[0m\u001b[0;34m.\u001b[0m\u001b[0moptions\u001b[0m\u001b[0;34m)\u001b[0m  \u001b[0;31m# type: ignore[call-arg]\u001b[0m\u001b[0;34m\u001b[0m\u001b[0;34m\u001b[0m\u001b[0m\n\u001b[0m\u001b[1;32m   1041\u001b[0m \u001b[0;34m\u001b[0m\u001b[0m\n\u001b[1;32m   1042\u001b[0m     \u001b[0;32mdef\u001b[0m \u001b[0m_failover_to_python\u001b[0m\u001b[0;34m(\u001b[0m\u001b[0mself\u001b[0m\u001b[0;34m)\u001b[0m\u001b[0;34m:\u001b[0m\u001b[0;34m\u001b[0m\u001b[0;34m\u001b[0m\u001b[0m\n",
            "\u001b[0;32m/usr/local/lib/python3.7/dist-packages/pandas/io/parsers/c_parser_wrapper.py\u001b[0m in \u001b[0;36m__init__\u001b[0;34m(self, src, **kwds)\u001b[0m\n\u001b[1;32m     49\u001b[0m \u001b[0;34m\u001b[0m\u001b[0m\n\u001b[1;32m     50\u001b[0m         \u001b[0;31m# open handles\u001b[0m\u001b[0;34m\u001b[0m\u001b[0;34m\u001b[0m\u001b[0;34m\u001b[0m\u001b[0m\n\u001b[0;32m---> 51\u001b[0;31m         \u001b[0mself\u001b[0m\u001b[0;34m.\u001b[0m\u001b[0m_open_handles\u001b[0m\u001b[0;34m(\u001b[0m\u001b[0msrc\u001b[0m\u001b[0;34m,\u001b[0m \u001b[0mkwds\u001b[0m\u001b[0;34m)\u001b[0m\u001b[0;34m\u001b[0m\u001b[0;34m\u001b[0m\u001b[0m\n\u001b[0m\u001b[1;32m     52\u001b[0m         \u001b[0;32massert\u001b[0m \u001b[0mself\u001b[0m\u001b[0;34m.\u001b[0m\u001b[0mhandles\u001b[0m \u001b[0;32mis\u001b[0m \u001b[0;32mnot\u001b[0m \u001b[0;32mNone\u001b[0m\u001b[0;34m\u001b[0m\u001b[0;34m\u001b[0m\u001b[0m\n\u001b[1;32m     53\u001b[0m \u001b[0;34m\u001b[0m\u001b[0m\n",
            "\u001b[0;32m/usr/local/lib/python3.7/dist-packages/pandas/io/parsers/base_parser.py\u001b[0m in \u001b[0;36m_open_handles\u001b[0;34m(self, src, kwds)\u001b[0m\n\u001b[1;32m    227\u001b[0m             \u001b[0mmemory_map\u001b[0m\u001b[0;34m=\u001b[0m\u001b[0mkwds\u001b[0m\u001b[0;34m.\u001b[0m\u001b[0mget\u001b[0m\u001b[0;34m(\u001b[0m\u001b[0;34m\"memory_map\"\u001b[0m\u001b[0;34m,\u001b[0m \u001b[0;32mFalse\u001b[0m\u001b[0;34m)\u001b[0m\u001b[0;34m,\u001b[0m\u001b[0;34m\u001b[0m\u001b[0;34m\u001b[0m\u001b[0m\n\u001b[1;32m    228\u001b[0m             \u001b[0mstorage_options\u001b[0m\u001b[0;34m=\u001b[0m\u001b[0mkwds\u001b[0m\u001b[0;34m.\u001b[0m\u001b[0mget\u001b[0m\u001b[0;34m(\u001b[0m\u001b[0;34m\"storage_options\"\u001b[0m\u001b[0;34m,\u001b[0m \u001b[0;32mNone\u001b[0m\u001b[0;34m)\u001b[0m\u001b[0;34m,\u001b[0m\u001b[0;34m\u001b[0m\u001b[0;34m\u001b[0m\u001b[0m\n\u001b[0;32m--> 229\u001b[0;31m             \u001b[0merrors\u001b[0m\u001b[0;34m=\u001b[0m\u001b[0mkwds\u001b[0m\u001b[0;34m.\u001b[0m\u001b[0mget\u001b[0m\u001b[0;34m(\u001b[0m\u001b[0;34m\"encoding_errors\"\u001b[0m\u001b[0;34m,\u001b[0m \u001b[0;34m\"strict\"\u001b[0m\u001b[0;34m)\u001b[0m\u001b[0;34m,\u001b[0m\u001b[0;34m\u001b[0m\u001b[0;34m\u001b[0m\u001b[0m\n\u001b[0m\u001b[1;32m    230\u001b[0m         )\n\u001b[1;32m    231\u001b[0m \u001b[0;34m\u001b[0m\u001b[0m\n",
            "\u001b[0;32m/usr/local/lib/python3.7/dist-packages/pandas/io/common.py\u001b[0m in \u001b[0;36mget_handle\u001b[0;34m(path_or_buf, mode, encoding, compression, memory_map, is_text, errors, storage_options)\u001b[0m\n\u001b[1;32m    705\u001b[0m                 \u001b[0mencoding\u001b[0m\u001b[0;34m=\u001b[0m\u001b[0mioargs\u001b[0m\u001b[0;34m.\u001b[0m\u001b[0mencoding\u001b[0m\u001b[0;34m,\u001b[0m\u001b[0;34m\u001b[0m\u001b[0;34m\u001b[0m\u001b[0m\n\u001b[1;32m    706\u001b[0m                 \u001b[0merrors\u001b[0m\u001b[0;34m=\u001b[0m\u001b[0merrors\u001b[0m\u001b[0;34m,\u001b[0m\u001b[0;34m\u001b[0m\u001b[0;34m\u001b[0m\u001b[0m\n\u001b[0;32m--> 707\u001b[0;31m                 \u001b[0mnewline\u001b[0m\u001b[0;34m=\u001b[0m\u001b[0;34m\"\"\u001b[0m\u001b[0;34m,\u001b[0m\u001b[0;34m\u001b[0m\u001b[0;34m\u001b[0m\u001b[0m\n\u001b[0m\u001b[1;32m    708\u001b[0m             )\n\u001b[1;32m    709\u001b[0m         \u001b[0;32melse\u001b[0m\u001b[0;34m:\u001b[0m\u001b[0;34m\u001b[0m\u001b[0;34m\u001b[0m\u001b[0m\n",
            "\u001b[0;31mFileNotFoundError\u001b[0m: [Errno 2] No such file or directory: 'pubg-finish-placement-prediction/train_V2.csv'"
          ]
        }
      ],
      "source": [
        "# jupyter\n",
        "# data를 불러와 봅니다.\n",
        "#base_path = '폴더 경로복사하고, 끝에 / 붙이기'\n",
        "\n",
        "train = pd.read_csv('pubg-finish-placement-prediction/train_V2.csv')\n",
        "test = pd.read_csv('pubg-finish-placement-prediction/test_V2.csv')\n",
        "submission = pd.read_csv('pubg-finish-placement-prediction/sample_submission_V2.csv')\n",
        "\n",
        "# train = pd.read_csv(base_path + \"train_V2.csv\")\n",
        "train.info()"
      ]
    },
    {
      "cell_type": "code",
      "execution_count": 3,
      "id": "EHp7_vBgOsgB",
      "metadata": {
        "colab": {
          "base_uri": "https://localhost:8080/"
        },
        "id": "EHp7_vBgOsgB",
        "outputId": "40dda5ce-bdb0-44fd-b82d-f29a8f4dff94"
      },
      "outputs": [
        {
          "output_type": "stream",
          "name": "stdout",
          "text": [
            "Mounted at /content/drive\n"
          ]
        }
      ],
      "source": [
        "# colab\n",
        "from google.colab import drive\n",
        "drive.mount('/content/drive')"
      ]
    },
    {
      "cell_type": "code",
      "execution_count": 21,
      "id": "ofi4qHFYl7Yy",
      "metadata": {
        "id": "ofi4qHFYl7Yy",
        "scrolled": true,
        "colab": {
          "base_uri": "https://localhost:8080/"
        },
        "outputId": "bf34755e-c295-4275-f2c3-1bbd466e4211"
      },
      "outputs": [
        {
          "output_type": "stream",
          "name": "stdout",
          "text": [
            "<class 'pandas.core.frame.DataFrame'>\n",
            "RangeIndex: 4446966 entries, 0 to 4446965\n",
            "Data columns (total 29 columns):\n",
            " #   Column           Dtype  \n",
            "---  ------           -----  \n",
            " 0   Id               object \n",
            " 1   groupId          object \n",
            " 2   matchId          object \n",
            " 3   assists          int64  \n",
            " 4   boosts           int64  \n",
            " 5   damageDealt      float64\n",
            " 6   DBNOs            int64  \n",
            " 7   headshotKills    int64  \n",
            " 8   heals            int64  \n",
            " 9   killPlace        int64  \n",
            " 10  killPoints       int64  \n",
            " 11  kills            int64  \n",
            " 12  killStreaks      int64  \n",
            " 13  longestKill      float64\n",
            " 14  matchDuration    int64  \n",
            " 15  matchType        object \n",
            " 16  maxPlace         int64  \n",
            " 17  numGroups        int64  \n",
            " 18  rankPoints       int64  \n",
            " 19  revives          int64  \n",
            " 20  rideDistance     float64\n",
            " 21  roadKills        int64  \n",
            " 22  swimDistance     float64\n",
            " 23  teamKills        int64  \n",
            " 24  vehicleDestroys  int64  \n",
            " 25  walkDistance     float64\n",
            " 26  weaponsAcquired  int64  \n",
            " 27  winPoints        int64  \n",
            " 28  winPlacePerc     float64\n",
            "dtypes: float64(6), int64(19), object(4)\n",
            "memory usage: 983.9+ MB\n"
          ]
        }
      ],
      "source": [
        "# colab\n",
        "# data를 불러와 봅니다.\n",
        "#base_path = '폴더 경로복사하고, 끝에 / 붙이기'\n",
        "\n",
        "base_path = '/content/drive/MyDrive/Data/pubg-finish-placement-prediction/'\n",
        "train = pd.read_csv(base_path + \"train_V2.csv\")\n",
        "test = pd.read_csv(base_path + \"test_V2.csv\")\n",
        "submission = pd.read_csv(base_path + \"sample_submission_V2.csv\")\n",
        "\n",
        "# train = pd.read_csv(base_path + \"train_V2.csv\")\n",
        "train.info()"
      ]
    },
    {
      "cell_type": "code",
      "execution_count": 22,
      "id": "d-BtTfWgyHSE",
      "metadata": {
        "id": "d-BtTfWgyHSE"
      },
      "outputs": [],
      "source": [
        "# Memory saving function credit to https://www.kaggle.com/gemartin/load-data-reduce-memory-usage\n",
        "def reduce_mem_usage(df):\n",
        "    \"\"\" iterate through all the columns of a dataframe and modify the data type\n",
        "        to reduce memory usage.        \n",
        "    \"\"\"\n",
        "    #start_mem = df.memory_usage().sum() / 1024**2\n",
        "    #print('Memory usage of dataframe is {:.2f} MB'.format(start_mem))\n",
        "\n",
        "    for col in df.columns:\n",
        "        col_type = df[col].dtype\n",
        "\n",
        "        if col_type != object:\n",
        "            c_min = df[col].min()\n",
        "            c_max = df[col].max()\n",
        "            if str(col_type)[:3] == 'int':\n",
        "                if c_min > np.iinfo(np.int8).min and c_max < np.iinfo(np.int8).max:\n",
        "                    df[col] = df[col].astype(np.int8)\n",
        "                elif c_min > np.iinfo(np.int16).min and c_max < np.iinfo(np.int16).max:\n",
        "                    df[col] = df[col].astype(np.int16)\n",
        "                elif c_min > np.iinfo(np.int32).min and c_max < np.iinfo(np.int32).max:\n",
        "                    df[col] = df[col].astype(np.int32)\n",
        "                elif c_min > np.iinfo(np.int64).min and c_max < np.iinfo(np.int64).max:\n",
        "                    df[col] = df[col].astype(np.int64)  \n",
        "            else:\n",
        "                if c_min > np.finfo(np.float16).min and c_max < np.finfo(np.float16).max:\n",
        "                    df[col] = df[col].astype(np.float16)\n",
        "                elif c_min > np.finfo(np.float32).min and c_max < np.finfo(np.float32).max:\n",
        "                    df[col] = df[col].astype(np.float32)\n",
        "                else:\n",
        "                    df[col] = df[col].astype(np.float64)\n",
        "\n",
        "    #end_mem = df.memory_usage().sum() / 1024**2\n",
        "    #print('Memory usage after optimization is: {:.2f} MB'.format(end_mem))\n",
        "    #print('Decreased by {:.1f}%'.format(100 * (start_mem - end_mem) / start_mem))\n",
        "\n",
        "    return df\n",
        "train = reduce_mem_usage(train)\n",
        "test = reduce_mem_usage(test)"
      ]
    },
    {
      "cell_type": "code",
      "execution_count": null,
      "id": "d0f1cd95",
      "metadata": {
        "id": "d0f1cd95",
        "outputId": "41b879a5-5194-4be3-fa6f-b801283427c0"
      },
      "outputs": [
        {
          "data": {
            "text/plain": [
              "Id                 0\n",
              "groupId            0\n",
              "matchId            0\n",
              "assists            0\n",
              "boosts             0\n",
              "damageDealt        0\n",
              "DBNOs              0\n",
              "headshotKills      0\n",
              "heals              0\n",
              "killPlace          0\n",
              "killPoints         0\n",
              "kills              0\n",
              "killStreaks        0\n",
              "longestKill        0\n",
              "matchDuration      0\n",
              "matchType          0\n",
              "maxPlace           0\n",
              "numGroups          0\n",
              "rankPoints         0\n",
              "revives            0\n",
              "rideDistance       0\n",
              "roadKills          0\n",
              "swimDistance       0\n",
              "teamKills          0\n",
              "vehicleDestroys    0\n",
              "walkDistance       0\n",
              "weaponsAcquired    0\n",
              "winPoints          0\n",
              "winPlacePerc       0\n",
              "dtype: int64"
            ]
          },
          "execution_count": 101,
          "metadata": {},
          "output_type": "execute_result"
        }
      ],
      "source": [
        "train.isna().sum()"
      ]
    },
    {
      "cell_type": "code",
      "execution_count": null,
      "id": "227dafbd",
      "metadata": {
        "id": "227dafbd",
        "outputId": "3eea9653-c0dd-4a53-c4a1-d40405de0d5e"
      },
      "outputs": [
        {
          "data": {
            "text/plain": [
              "assists               0.000000\n",
              "boosts                0.000000\n",
              "damageDealt          84.250000\n",
              "DBNOs                 0.000000\n",
              "headshotKills         0.000000\n",
              "heals                 0.000000\n",
              "killPlace            47.000000\n",
              "killPoints            0.000000\n",
              "kills                 0.000000\n",
              "killStreaks           0.000000\n",
              "longestKill           0.000000\n",
              "matchDuration      1438.000000\n",
              "maxPlace             30.000000\n",
              "numGroups            30.000000\n",
              "rankPoints         1443.000000\n",
              "revives               0.000000\n",
              "rideDistance          0.000000\n",
              "roadKills             0.000000\n",
              "swimDistance          0.000000\n",
              "teamKills             0.000000\n",
              "vehicleDestroys       0.000000\n",
              "walkDistance        685.500000\n",
              "weaponsAcquired       3.000000\n",
              "winPoints             0.000000\n",
              "winPlacePerc          0.458252\n",
              "Name: 0.5, dtype: float64"
            ]
          },
          "execution_count": 102,
          "metadata": {},
          "output_type": "execute_result"
        }
      ],
      "source": [
        "train.quantile()"
      ]
    },
    {
      "cell_type": "code",
      "execution_count": 23,
      "id": "4b4ce77a",
      "metadata": {
        "id": "4b4ce77a",
        "colab": {
          "base_uri": "https://localhost:8080/"
        },
        "outputId": "3f4ff338-138f-47d1-ed79-8c91c9932c06"
      },
      "outputs": [
        {
          "output_type": "stream",
          "name": "stdout",
          "text": [
            "<class 'pandas.core.frame.DataFrame'>\n",
            "Int64Index: 4446965 entries, 0 to 4446965\n",
            "Data columns (total 29 columns):\n",
            " #   Column           Dtype  \n",
            "---  ------           -----  \n",
            " 0   Id               object \n",
            " 1   groupId          object \n",
            " 2   matchId          object \n",
            " 3   assists          int8   \n",
            " 4   boosts           int8   \n",
            " 5   damageDealt      float16\n",
            " 6   DBNOs            int8   \n",
            " 7   headshotKills    int8   \n",
            " 8   heals            int8   \n",
            " 9   killPlace        int8   \n",
            " 10  killPoints       int16  \n",
            " 11  kills            int8   \n",
            " 12  killStreaks      int8   \n",
            " 13  longestKill      float16\n",
            " 14  matchDuration    int16  \n",
            " 15  matchType        object \n",
            " 16  maxPlace         int8   \n",
            " 17  numGroups        int8   \n",
            " 18  rankPoints       int16  \n",
            " 19  revives          int8   \n",
            " 20  rideDistance     float16\n",
            " 21  roadKills        int8   \n",
            " 22  swimDistance     float16\n",
            " 23  teamKills        int8   \n",
            " 24  vehicleDestroys  int8   \n",
            " 25  walkDistance     float16\n",
            " 26  weaponsAcquired  int16  \n",
            " 27  winPoints        int16  \n",
            " 28  winPlacePerc     float16\n",
            "dtypes: float16(6), int16(5), int8(14), object(4)\n",
            "memory usage: 322.3+ MB\n"
          ]
        }
      ],
      "source": [
        "# 결측값 제거 \n",
        "train = train.dropna(axis=0)\n",
        "train.isna().sum()\n",
        "train.info()"
      ]
    },
    {
      "cell_type": "code",
      "source": [
        "stat_feature = [\"assists\",\"boosts\",\"DBNOs\",\"heals\",\"kills\",\"killStreaks\",\"walkDistance\", \"revives\", \"roadKills\", \"vehicleDestroys\",\"damageDealt\",\"longestKill\", \"rideDistance\", \"swimDistance\",\"weaponsAcquired\"]\n",
        "for col in stat_feature :\n",
        "    train[f\"{col}_max\"] = train.groupby(\"groupId\")[col].transform('max')\n",
        "    train[f\"{col}_mean\"] = train.groupby(\"groupId\")[col].transform('mean')\n",
        "    # train[f\"{col}_median\"] = train.groupby(\"groupId\")[col].transform('median', ascending=False)\n",
        "    train[f\"{col}_min\"] = train.groupby(\"groupId\")[col].transform('min')"
      ],
      "metadata": {
        "id": "ll6l6mqXNtWx"
      },
      "execution_count": 24,
      "outputs": [],
      "id": "ll6l6mqXNtWx"
    },
    {
      "cell_type": "code",
      "source": [
        "train.shape\n",
        "train.columns"
      ],
      "metadata": {
        "colab": {
          "base_uri": "https://localhost:8080/"
        },
        "id": "6ZGAN-8nW43E",
        "outputId": "968c0b9d-11df-45c9-cf0b-0412e0bd82b8"
      },
      "id": "6ZGAN-8nW43E",
      "execution_count": 16,
      "outputs": [
        {
          "output_type": "execute_result",
          "data": {
            "text/plain": [
              "Index(['Id', 'groupId', 'matchId', 'assists', 'boosts', 'damageDealt', 'DBNOs',\n",
              "       'headshotKills', 'heals', 'killPlace', 'killPoints', 'kills',\n",
              "       'killStreaks', 'longestKill', 'matchDuration', 'matchType', 'maxPlace',\n",
              "       'numGroups', 'rankPoints', 'revives', 'rideDistance', 'roadKills',\n",
              "       'swimDistance', 'teamKills', 'vehicleDestroys', 'walkDistance',\n",
              "       'weaponsAcquired', 'winPoints', 'winPlacePerc', 'killRank',\n",
              "       'assists_max', 'assists_mean', 'assists_min', 'boosts_max',\n",
              "       'boosts_mean', 'boosts_min', 'DBNOs_max', 'DBNOs_mean', 'DBNOs_min',\n",
              "       'heals_max', 'heals_mean', 'heals_min', 'kills_max', 'kills_mean',\n",
              "       'kills_min', 'killStreaks_max', 'killStreaks_mean', 'killStreaks_min',\n",
              "       'walkDistance_max', 'walkDistance_mean', 'walkDistance_min',\n",
              "       'revives_max', 'revives_mean', 'revives_min', 'roadKills_max',\n",
              "       'roadKills_mean', 'roadKills_min', 'vehicleDestroys_max',\n",
              "       'vehicleDestroys_mean', 'vehicleDestroys_min', 'damageDealt_max',\n",
              "       'damageDealt_mean', 'damageDealt_min', 'longestKill_max',\n",
              "       'longestKill_mean', 'longestKill_min', 'rideDistance_max',\n",
              "       'rideDistance_mean', 'rideDistance_min', 'swimDistance_max',\n",
              "       'swimDistance_mean', 'swimDistance_min', 'weaponsAcquired_max',\n",
              "       'weaponsAcquired_mean', 'weaponsAcquired_min'],\n",
              "      dtype='object')"
            ]
          },
          "metadata": {},
          "execution_count": 16
        }
      ]
    },
    {
      "cell_type": "markdown",
      "id": "448b10cb",
      "metadata": {
        "id": "448b10cb"
      },
      "source": [
        "### data leakage가 없는 killPlacePerc 컬럼 만들기\n",
        "#### matchId로 그룹바이해서 순서 만들기"
      ]
    },
    {
      "cell_type": "code",
      "execution_count": 25,
      "id": "jBs3w8rf--9O",
      "metadata": {
        "colab": {
          "base_uri": "https://localhost:8080/",
          "height": 236
        },
        "id": "jBs3w8rf--9O",
        "outputId": "8589c682-6c9c-454f-c536-0b55c2dd26a5"
      },
      "outputs": [
        {
          "output_type": "execute_result",
          "data": {
            "text/plain": [
              "               Id         groupId         matchId  assists  boosts  \\\n",
              "0  9329eb41e215eb  676b23c24e70d6  45b576ab7daa7f        0       0   \n",
              "1  639bd0dcd7bda8  430933124148dd  42a9a0b906c928        0       4   \n",
              "2  63d5c8ef8dfe91  0b45f5db20ba99  87e7e4477a048e        1       0   \n",
              "3  cf5b81422591d1  b7497dbdc77f4a  1b9a94f1af67f1        0       0   \n",
              "4  ee6a295187ba21  6604ce20a1d230  40754a93016066        0       4   \n",
              "\n",
              "   damageDealt  DBNOs  headshotKills  heals  killPlace  ...  revives  \\\n",
              "0     51.46875      0              0      0         73  ...        0   \n",
              "1    179.12500      0              0      2         11  ...        2   \n",
              "2     23.40625      0              0      4         49  ...        0   \n",
              "3     65.50000      0              0      0         54  ...        0   \n",
              "4    330.25000      1              2      1          7  ...        1   \n",
              "\n",
              "   rideDistance  roadKills  swimDistance  teamKills vehicleDestroys  \\\n",
              "0           0.0          0           0.0          0               0   \n",
              "1        4668.0          0           0.0          0               0   \n",
              "2           0.0          0           0.0          0               0   \n",
              "3           0.0          0           0.0          0               0   \n",
              "4           0.0          0           0.0          0               0   \n",
              "\n",
              "   walkDistance  weaponsAcquired  winPoints  killRank  \n",
              "0         588.0                1          0       8.0  \n",
              "1        2017.0                6          0       6.0  \n",
              "2         788.0                4          0       7.0  \n",
              "3        1812.0                3          0       8.0  \n",
              "4        2964.0                4          0       5.0  \n",
              "\n",
              "[5 rows x 29 columns]"
            ],
            "text/html": [
              "\n",
              "  <div id=\"df-cf9e112f-6e34-407a-a8ad-d3d080dde2d8\">\n",
              "    <div class=\"colab-df-container\">\n",
              "      <div>\n",
              "<style scoped>\n",
              "    .dataframe tbody tr th:only-of-type {\n",
              "        vertical-align: middle;\n",
              "    }\n",
              "\n",
              "    .dataframe tbody tr th {\n",
              "        vertical-align: top;\n",
              "    }\n",
              "\n",
              "    .dataframe thead th {\n",
              "        text-align: right;\n",
              "    }\n",
              "</style>\n",
              "<table border=\"1\" class=\"dataframe\">\n",
              "  <thead>\n",
              "    <tr style=\"text-align: right;\">\n",
              "      <th></th>\n",
              "      <th>Id</th>\n",
              "      <th>groupId</th>\n",
              "      <th>matchId</th>\n",
              "      <th>assists</th>\n",
              "      <th>boosts</th>\n",
              "      <th>damageDealt</th>\n",
              "      <th>DBNOs</th>\n",
              "      <th>headshotKills</th>\n",
              "      <th>heals</th>\n",
              "      <th>killPlace</th>\n",
              "      <th>...</th>\n",
              "      <th>revives</th>\n",
              "      <th>rideDistance</th>\n",
              "      <th>roadKills</th>\n",
              "      <th>swimDistance</th>\n",
              "      <th>teamKills</th>\n",
              "      <th>vehicleDestroys</th>\n",
              "      <th>walkDistance</th>\n",
              "      <th>weaponsAcquired</th>\n",
              "      <th>winPoints</th>\n",
              "      <th>killRank</th>\n",
              "    </tr>\n",
              "  </thead>\n",
              "  <tbody>\n",
              "    <tr>\n",
              "      <th>0</th>\n",
              "      <td>9329eb41e215eb</td>\n",
              "      <td>676b23c24e70d6</td>\n",
              "      <td>45b576ab7daa7f</td>\n",
              "      <td>0</td>\n",
              "      <td>0</td>\n",
              "      <td>51.46875</td>\n",
              "      <td>0</td>\n",
              "      <td>0</td>\n",
              "      <td>0</td>\n",
              "      <td>73</td>\n",
              "      <td>...</td>\n",
              "      <td>0</td>\n",
              "      <td>0.0</td>\n",
              "      <td>0</td>\n",
              "      <td>0.0</td>\n",
              "      <td>0</td>\n",
              "      <td>0</td>\n",
              "      <td>588.0</td>\n",
              "      <td>1</td>\n",
              "      <td>0</td>\n",
              "      <td>8.0</td>\n",
              "    </tr>\n",
              "    <tr>\n",
              "      <th>1</th>\n",
              "      <td>639bd0dcd7bda8</td>\n",
              "      <td>430933124148dd</td>\n",
              "      <td>42a9a0b906c928</td>\n",
              "      <td>0</td>\n",
              "      <td>4</td>\n",
              "      <td>179.12500</td>\n",
              "      <td>0</td>\n",
              "      <td>0</td>\n",
              "      <td>2</td>\n",
              "      <td>11</td>\n",
              "      <td>...</td>\n",
              "      <td>2</td>\n",
              "      <td>4668.0</td>\n",
              "      <td>0</td>\n",
              "      <td>0.0</td>\n",
              "      <td>0</td>\n",
              "      <td>0</td>\n",
              "      <td>2017.0</td>\n",
              "      <td>6</td>\n",
              "      <td>0</td>\n",
              "      <td>6.0</td>\n",
              "    </tr>\n",
              "    <tr>\n",
              "      <th>2</th>\n",
              "      <td>63d5c8ef8dfe91</td>\n",
              "      <td>0b45f5db20ba99</td>\n",
              "      <td>87e7e4477a048e</td>\n",
              "      <td>1</td>\n",
              "      <td>0</td>\n",
              "      <td>23.40625</td>\n",
              "      <td>0</td>\n",
              "      <td>0</td>\n",
              "      <td>4</td>\n",
              "      <td>49</td>\n",
              "      <td>...</td>\n",
              "      <td>0</td>\n",
              "      <td>0.0</td>\n",
              "      <td>0</td>\n",
              "      <td>0.0</td>\n",
              "      <td>0</td>\n",
              "      <td>0</td>\n",
              "      <td>788.0</td>\n",
              "      <td>4</td>\n",
              "      <td>0</td>\n",
              "      <td>7.0</td>\n",
              "    </tr>\n",
              "    <tr>\n",
              "      <th>3</th>\n",
              "      <td>cf5b81422591d1</td>\n",
              "      <td>b7497dbdc77f4a</td>\n",
              "      <td>1b9a94f1af67f1</td>\n",
              "      <td>0</td>\n",
              "      <td>0</td>\n",
              "      <td>65.50000</td>\n",
              "      <td>0</td>\n",
              "      <td>0</td>\n",
              "      <td>0</td>\n",
              "      <td>54</td>\n",
              "      <td>...</td>\n",
              "      <td>0</td>\n",
              "      <td>0.0</td>\n",
              "      <td>0</td>\n",
              "      <td>0.0</td>\n",
              "      <td>0</td>\n",
              "      <td>0</td>\n",
              "      <td>1812.0</td>\n",
              "      <td>3</td>\n",
              "      <td>0</td>\n",
              "      <td>8.0</td>\n",
              "    </tr>\n",
              "    <tr>\n",
              "      <th>4</th>\n",
              "      <td>ee6a295187ba21</td>\n",
              "      <td>6604ce20a1d230</td>\n",
              "      <td>40754a93016066</td>\n",
              "      <td>0</td>\n",
              "      <td>4</td>\n",
              "      <td>330.25000</td>\n",
              "      <td>1</td>\n",
              "      <td>2</td>\n",
              "      <td>1</td>\n",
              "      <td>7</td>\n",
              "      <td>...</td>\n",
              "      <td>1</td>\n",
              "      <td>0.0</td>\n",
              "      <td>0</td>\n",
              "      <td>0.0</td>\n",
              "      <td>0</td>\n",
              "      <td>0</td>\n",
              "      <td>2964.0</td>\n",
              "      <td>4</td>\n",
              "      <td>0</td>\n",
              "      <td>5.0</td>\n",
              "    </tr>\n",
              "  </tbody>\n",
              "</table>\n",
              "<p>5 rows × 29 columns</p>\n",
              "</div>\n",
              "      <button class=\"colab-df-convert\" onclick=\"convertToInteractive('df-cf9e112f-6e34-407a-a8ad-d3d080dde2d8')\"\n",
              "              title=\"Convert this dataframe to an interactive table.\"\n",
              "              style=\"display:none;\">\n",
              "        \n",
              "  <svg xmlns=\"http://www.w3.org/2000/svg\" height=\"24px\"viewBox=\"0 0 24 24\"\n",
              "       width=\"24px\">\n",
              "    <path d=\"M0 0h24v24H0V0z\" fill=\"none\"/>\n",
              "    <path d=\"M18.56 5.44l.94 2.06.94-2.06 2.06-.94-2.06-.94-.94-2.06-.94 2.06-2.06.94zm-11 1L8.5 8.5l.94-2.06 2.06-.94-2.06-.94L8.5 2.5l-.94 2.06-2.06.94zm10 10l.94 2.06.94-2.06 2.06-.94-2.06-.94-.94-2.06-.94 2.06-2.06.94z\"/><path d=\"M17.41 7.96l-1.37-1.37c-.4-.4-.92-.59-1.43-.59-.52 0-1.04.2-1.43.59L10.3 9.45l-7.72 7.72c-.78.78-.78 2.05 0 2.83L4 21.41c.39.39.9.59 1.41.59.51 0 1.02-.2 1.41-.59l7.78-7.78 2.81-2.81c.8-.78.8-2.07 0-2.86zM5.41 20L4 18.59l7.72-7.72 1.47 1.35L5.41 20z\"/>\n",
              "  </svg>\n",
              "      </button>\n",
              "      \n",
              "  <style>\n",
              "    .colab-df-container {\n",
              "      display:flex;\n",
              "      flex-wrap:wrap;\n",
              "      gap: 12px;\n",
              "    }\n",
              "\n",
              "    .colab-df-convert {\n",
              "      background-color: #E8F0FE;\n",
              "      border: none;\n",
              "      border-radius: 50%;\n",
              "      cursor: pointer;\n",
              "      display: none;\n",
              "      fill: #1967D2;\n",
              "      height: 32px;\n",
              "      padding: 0 0 0 0;\n",
              "      width: 32px;\n",
              "    }\n",
              "\n",
              "    .colab-df-convert:hover {\n",
              "      background-color: #E2EBFA;\n",
              "      box-shadow: 0px 1px 2px rgba(60, 64, 67, 0.3), 0px 1px 3px 1px rgba(60, 64, 67, 0.15);\n",
              "      fill: #174EA6;\n",
              "    }\n",
              "\n",
              "    [theme=dark] .colab-df-convert {\n",
              "      background-color: #3B4455;\n",
              "      fill: #D2E3FC;\n",
              "    }\n",
              "\n",
              "    [theme=dark] .colab-df-convert:hover {\n",
              "      background-color: #434B5C;\n",
              "      box-shadow: 0px 1px 3px 1px rgba(0, 0, 0, 0.15);\n",
              "      filter: drop-shadow(0px 1px 2px rgba(0, 0, 0, 0.3));\n",
              "      fill: #FFFFFF;\n",
              "    }\n",
              "  </style>\n",
              "\n",
              "      <script>\n",
              "        const buttonEl =\n",
              "          document.querySelector('#df-cf9e112f-6e34-407a-a8ad-d3d080dde2d8 button.colab-df-convert');\n",
              "        buttonEl.style.display =\n",
              "          google.colab.kernel.accessAllowed ? 'block' : 'none';\n",
              "\n",
              "        async function convertToInteractive(key) {\n",
              "          const element = document.querySelector('#df-cf9e112f-6e34-407a-a8ad-d3d080dde2d8');\n",
              "          const dataTable =\n",
              "            await google.colab.kernel.invokeFunction('convertToInteractive',\n",
              "                                                     [key], {});\n",
              "          if (!dataTable) return;\n",
              "\n",
              "          const docLinkHtml = 'Like what you see? Visit the ' +\n",
              "            '<a target=\"_blank\" href=https://colab.research.google.com/notebooks/data_table.ipynb>data table notebook</a>'\n",
              "            + ' to learn more about interactive tables.';\n",
              "          element.innerHTML = '';\n",
              "          dataTable['output_type'] = 'display_data';\n",
              "          await google.colab.output.renderOutput(dataTable, element);\n",
              "          const docLink = document.createElement('div');\n",
              "          docLink.innerHTML = docLinkHtml;\n",
              "          element.appendChild(docLink);\n",
              "        }\n",
              "      </script>\n",
              "    </div>\n",
              "  </div>\n",
              "  "
            ]
          },
          "metadata": {},
          "execution_count": 25
        }
      ],
      "source": [
        "# data leakage가 없는 killPlacePerc 컬럼 만들기\n",
        "# matchId로 그룹바이해서 순서 만들기\n",
        "\n",
        "# killPlace 만들기!!\n",
        "train[\"killRank\"] = train.groupby(\"matchId\")[\"kills\"].rank(\"dense\", ascending=False)\n",
        "train\n",
        "\n",
        "# test data도 전처리\n",
        "test[\"killRank\"] = test.groupby(\"matchId\")[\"kills\"].rank(\"dense\", ascending=False)\n",
        "test.head()"
      ]
    },
    {
      "cell_type": "code",
      "execution_count": null,
      "id": "3f1105cb",
      "metadata": {
        "colab": {
          "base_uri": "https://localhost:8080/"
        },
        "id": "3f1105cb",
        "outputId": "beb17bd9-c245-4434-986a-6e9c26205304"
      },
      "outputs": [
        {
          "output_type": "stream",
          "name": "stdout",
          "text": [
            "     killRank\n",
            "7.0        57\n",
            "6.0        16\n",
            "5.0        11\n",
            "4.0         6\n",
            "3.0         4\n",
            "2.0         1\n",
            "1.0         1\n",
            "   kills\n",
            "0     57\n",
            "1     16\n",
            "2     11\n",
            "3      6\n",
            "4      4\n",
            "5      1\n",
            "7      1\n",
            "     killRank\n",
            "7.0        45\n",
            "6.0        25\n",
            "5.0        14\n",
            "4.0         3\n",
            "2.0         2\n",
            "3.0         1\n",
            "1.0         1\n",
            "   kills\n",
            "0     45\n",
            "1     25\n",
            "2     14\n",
            "3      3\n",
            "5      2\n",
            "4      1\n",
            "7      1\n",
            "     killRank\n",
            "8.0        56\n",
            "7.0        17\n",
            "6.0        13\n",
            "5.0         8\n",
            "2.0         1\n",
            "4.0         1\n",
            "1.0         1\n",
            "3.0         1\n",
            "   kills\n",
            "0     56\n",
            "1     17\n",
            "2     13\n",
            "3      8\n",
            "6      1\n",
            "4      1\n",
            "9      1\n",
            "5      1\n"
          ]
        }
      ],
      "source": [
        "# killRank 잘 나오는지 확인\n",
        "\n",
        "a = train.matchId.unique().tolist()\n",
        "\n",
        "for i in a[:3]:\n",
        "    print(train[(train.matchId== i)][\"killRank\"].value_counts().to_frame())\n",
        "    print(train[(train.matchId== i)][\"kills\"].value_counts().to_frame())\n",
        "    "
      ]
    },
    {
      "cell_type": "code",
      "source": [
        "train.columns"
      ],
      "metadata": {
        "colab": {
          "base_uri": "https://localhost:8080/"
        },
        "id": "LHEQ0iVWa5YF",
        "outputId": "58ee7b1b-81cf-494e-804e-81d9df0b6358"
      },
      "id": "LHEQ0iVWa5YF",
      "execution_count": 29,
      "outputs": [
        {
          "output_type": "execute_result",
          "data": {
            "text/plain": [
              "Index(['Id', 'groupId', 'matchId', 'assists', 'boosts', 'damageDealt', 'DBNOs',\n",
              "       'headshotKills', 'heals', 'killPlace', 'killPoints', 'kills',\n",
              "       'killStreaks', 'longestKill', 'matchDuration', 'matchType', 'maxPlace',\n",
              "       'numGroups', 'rankPoints', 'revives', 'rideDistance', 'roadKills',\n",
              "       'swimDistance', 'teamKills', 'vehicleDestroys', 'walkDistance',\n",
              "       'weaponsAcquired', 'winPoints', 'winPlacePerc', 'assists_max',\n",
              "       'assists_mean', 'assists_min', 'boosts_max', 'boosts_mean',\n",
              "       'boosts_min', 'DBNOs_max', 'DBNOs_mean', 'DBNOs_min', 'heals_max',\n",
              "       'heals_mean', 'heals_min', 'kills_max', 'kills_mean', 'kills_min',\n",
              "       'killStreaks_max', 'killStreaks_mean', 'killStreaks_min',\n",
              "       'walkDistance_max', 'walkDistance_mean', 'walkDistance_min',\n",
              "       'revives_max', 'revives_mean', 'revives_min', 'roadKills_max',\n",
              "       'roadKills_mean', 'roadKills_min', 'vehicleDestroys_max',\n",
              "       'vehicleDestroys_mean', 'vehicleDestroys_min', 'damageDealt_max',\n",
              "       'damageDealt_mean', 'damageDealt_min', 'longestKill_max',\n",
              "       'longestKill_mean', 'longestKill_min', 'rideDistance_max',\n",
              "       'rideDistance_mean', 'rideDistance_min', 'swimDistance_max',\n",
              "       'swimDistance_mean', 'swimDistance_min', 'weaponsAcquired_max',\n",
              "       'weaponsAcquired_mean', 'weaponsAcquired_min', 'killRank'],\n",
              "      dtype='object')"
            ]
          },
          "metadata": {},
          "execution_count": 29
        }
      ]
    },
    {
      "cell_type": "code",
      "execution_count": 31,
      "id": "9b6048e1",
      "metadata": {
        "id": "9b6048e1"
      },
      "outputs": [],
      "source": [
        "# train1 = train.drop([\"Id\",\"matchId\",\"groupId\"], axis=1)\n",
        "# numGroups -maxPlace 비교도 해보기(현재는 num drop)\n",
        "# points들도 제거해보기\n",
        "# categorical만 제거\n",
        "# train1 = train.drop(['Id', 'groupId', 'matchId', 'matchType', 'maxPlace',\n",
        "#         'rankPoints', 'revives', 'rideDistance', 'roadKills',\n",
        "#        'swimDistance', 'teamKills', 'vehicleDestroys', 'walkDistance',\n",
        "#        'weaponsAcquired', 'winPoints', 'winPlacePerc', 'killRank'], axis=1)\n",
        "# 범주형 + 그룹별 통계 + points + numGroups 다 제거\n",
        "train1 = train.drop(['Id', 'groupId', 'matchId', 'assists', 'boosts', 'damageDealt', 'DBNOs',\n",
        "        'heals', 'killPlace', 'killPoints', 'kills',\n",
        "       'killStreaks', 'longestKill', 'matchType', 'maxPlace',\n",
        "        'revives', 'rideDistance', 'roadKills',\n",
        "       'swimDistance', 'teamKills', 'vehicleDestroys', 'walkDistance',\n",
        "       'weaponsAcquired', 'winPoints'], axis=1)\n",
        "# test1 = test.drop([\"Id\", \"winPoints\", \"rankPoints\",\"killPlace\"], axis=1)"
      ]
    },
    {
      "cell_type": "markdown",
      "id": "f497a2d8",
      "metadata": {
        "id": "f497a2d8"
      },
      "source": [
        "### 4. 학습 데이터 분할"
      ]
    },
    {
      "cell_type": "code",
      "execution_count": 32,
      "id": "47306aaf",
      "metadata": {
        "id": "47306aaf"
      },
      "outputs": [],
      "source": [
        "# 첫번째 테스트용으로 사용하고, 실제 학습시에는 K-Fold CV를 사용합니다.\n",
        "# train : test = 8 : 2\n",
        "from sklearn.model_selection import train_test_split\n",
        "\n",
        "X = train1.drop(columns=[\"winPlacePerc\"])\n",
        "y = train1.winPlacePerc\n",
        "\n",
        "# X2 = train2_OHE.drop(columns=[\"winPlacePerc\"])\n",
        "# y2 = train2_OHE.winPlacePerc\n",
        "\n",
        "X_train, X_test, y_train, y_test = train_test_split(X, y, test_size=0.2, random_state=42)\n",
        "# X_train, X_test, y_train, y_test = train_test_split(X, y, testsize=0.2, random_state=42)"
      ]
    },
    {
      "cell_type": "code",
      "execution_count": 33,
      "id": "67efd2ee",
      "metadata": {
        "colab": {
          "base_uri": "https://localhost:8080/"
        },
        "id": "67efd2ee",
        "outputId": "65e5e823-9b3c-4b58-ad14-8287c76dc496"
      },
      "outputs": [
        {
          "output_type": "stream",
          "name": "stdout",
          "text": [
            "(3557572, 50) (3557572,) (889393, 50) (889393,)\n"
          ]
        }
      ],
      "source": [
        "print(X_train.shape, y_train.shape, X_test.shape, y_test.shape)\n",
        "# print(X2_train.shape, y2_train.shape, X2_test.shape, y2_test.shape)"
      ]
    },
    {
      "cell_type": "markdown",
      "id": "58056e51",
      "metadata": {
        "id": "58056e51"
      },
      "source": [
        "### 5. 학습 및 평가"
      ]
    },
    {
      "cell_type": "code",
      "execution_count": 37,
      "id": "39fd2515",
      "metadata": {
        "id": "39fd2515"
      },
      "outputs": [],
      "source": [
        "# 간단하게 LightGBM 테스트\n",
        "# 적당한 hyper-parameter 조합을 두었습니다. (항상 best는 아닙니다. 예시입니다.)\n",
        "from lightgbm.sklearn import LGBMRegressor\n",
        "\n",
        "param_grid = {\n",
        "    \"max_bin\" : 20,\n",
        "    \"learning_rate\" : 0.0025,\n",
        "    \"objective\" : \"regression\",\n",
        "    \"boosting_type\" : \"gbdt\",\n",
        "    \"metric\" : \"mae\",\n",
        "    \"sub_feature\" : 0.345,\n",
        "    \"bagging_fraction\" : 0.85,\n",
        "    \"bagging_freq\" : 40,\n",
        "    \"num_leaves\" : 512,\n",
        "    \"min_data\" : 500,\n",
        "    \"min_hessian\" : 0.05,\n",
        "    \"verbose\" : 2,\n",
        "    \"feature_fraction_seed\" : 2,\n",
        "    \"bagging_seed\" : 3\n",
        "}\n",
        "\n",
        "model = LGBMRegressor(**param_grid)"
      ]
    },
    {
      "cell_type": "code",
      "execution_count": 38,
      "id": "ddffa474",
      "metadata": {
        "colab": {
          "base_uri": "https://localhost:8080/"
        },
        "id": "ddffa474",
        "outputId": "ec46146b-5c20-4155-9643-f8b965d6544d",
        "scrolled": true
      },
      "outputs": [
        {
          "output_type": "stream",
          "name": "stdout",
          "text": [
            "\n",
            "Fitting LightGBM...\n"
          ]
        },
        {
          "output_type": "execute_result",
          "data": {
            "text/plain": [
              "LGBMRegressor(bagging_fraction=0.85, bagging_freq=40, bagging_seed=3,\n",
              "              feature_fraction_seed=2, learning_rate=0.0025, max_bin=20,\n",
              "              metric='mae', min_data=500, min_hessian=0.05, num_leaves=512,\n",
              "              objective='regression', sub_feature=0.345, verbose=2)"
            ]
          },
          "metadata": {},
          "execution_count": 38
        }
      ],
      "source": [
        "print(\"\\nFitting LightGBM...\")\n",
        "model.fit(X_train, y_train)"
      ]
    },
    {
      "cell_type": "code",
      "execution_count": 39,
      "id": "6c8b0259",
      "metadata": {
        "id": "6c8b0259"
      },
      "outputs": [],
      "source": [
        "# metric은 그때마다 맞게 바꿔줘야 합니다.\n",
        "from sklearn.metrics import mean_absolute_error\n",
        "evaluation_metric = mean_absolute_error\n",
        "# evaluation_metric2 = r2_score\n"
      ]
    },
    {
      "cell_type": "code",
      "execution_count": 40,
      "id": "a6b39be5",
      "metadata": {
        "colab": {
          "base_uri": "https://localhost:8080/"
        },
        "id": "a6b39be5",
        "outputId": "2a24f37b-04a3-49d3-a3f4-106c4a0c6040"
      },
      "outputs": [
        {
          "output_type": "stream",
          "name": "stdout",
          "text": [
            "Prediction\n",
            "Train Score : 0.2176\n",
            "Test Score : 0.2174\n"
          ]
        }
      ],
      "source": [
        "print(\"Prediction\")\n",
        "pred_train = model.predict(X_train)\n",
        "pred_test = model.predict(X_test)\n",
        "\n",
        "train_score = evaluation_metric(y_train, pred_train)\n",
        "test_score = evaluation_metric(y_test, pred_test)\n",
        "\n",
        "print(\"Train Score : %.4f\" % train_score)\n",
        "print(\"Test Score : %.4f\" % test_score)\n",
        "\n",
        "# print(\"Prediction2\")\n",
        "# pred_train = model.predict(X_train)\n",
        "# pred_test = model.predict(X_test)\n",
        "\n",
        "# train_score2 = evaluation_metric2(y_train, pred_train)\n",
        "# test_score2 = evaluation_metric2(y_test, pred_test)\n",
        "\n",
        "# print(\"Train Score : %.4f\" % train_score2)\n",
        "# print(\"Test Score : %.4f\" % test_score2)"
      ]
    },
    {
      "cell_type": "markdown",
      "id": "1bXALv4iSMus",
      "metadata": {
        "id": "1bXALv4iSMus"
      },
      "source": [
        "학습"
      ]
    },
    {
      "cell_type": "code",
      "execution_count": 34,
      "id": "5QhhZfM8SN92",
      "metadata": {
        "colab": {
          "base_uri": "https://localhost:8080/"
        },
        "id": "5QhhZfM8SN92",
        "outputId": "4a0bb9b9-4c8b-42b8-8cf3-1dcb72f7cbdf"
      },
      "outputs": [
        {
          "output_type": "execute_result",
          "data": {
            "text/plain": [
              "LGBMRegressor()"
            ]
          },
          "metadata": {},
          "execution_count": 34
        }
      ],
      "source": [
        "# 1. 사용할 함수를 불러옵니다. 랜덤포레스트,xgb 주석처리하고 해보자\n",
        "from sklearn.linear_model import LinearRegression\n",
        "from lightgbm.sklearn import LGBMRegressor\n",
        "# from xgboost.sklearn import XGBRegressor\n",
        "# from sklearn.ensemble import RandomForestRegressor\n",
        "\n",
        "# 2. 사용할 함수의 객체를 생성합니다.\n",
        "reg = LinearRegression()\n",
        "reg2 = LGBMRegressor()\n",
        "# reg3 = XGBRegressor()\n",
        "\n",
        "# reg4 = LGBMRegressor() # 2번째\n",
        "# reg3 = XGBRegressor()\n",
        "# reg4 = RandomForestRegressor()\n",
        "\n",
        "\n",
        "# 3. 학습\n",
        "reg.fit(X_train, y_train) ### Regression : supervised learning --> parameter update.\n",
        "reg2.fit(X_train, y_train)\n",
        "# reg3.fit(X_train, y_train)\n",
        "\n",
        "\n",
        "#points들 드랍한거\n",
        "# reg3.fit(X2_train, y2_train) ### Regression : supervised learning --> parameter update.\n",
        "# reg4.fit(X2_train, y2_train)\n",
        "# reg3.fit(X_train, y_train)"
      ]
    },
    {
      "cell_type": "code",
      "execution_count": 35,
      "id": "gxLGc0j5SMD_",
      "metadata": {
        "colab": {
          "base_uri": "https://localhost:8080/"
        },
        "id": "gxLGc0j5SMD_",
        "outputId": "8725457f-700d-46c5-b376-5b37260ad80b"
      },
      "outputs": [
        {
          "output_type": "stream",
          "name": "stdout",
          "text": [
            "----- Training -----\n",
            "--- Linear Regression ---\n",
            "MSE : 0.0153\n",
            "MAE : 0.0953\n",
            "R2 : 0.8383\n",
            "\n",
            "\n",
            "--- LightGBM ---\n",
            "MSE : 0.0080\n",
            "MAE : 0.0677\n",
            "R2 : 0.9152\n"
          ]
        }
      ],
      "source": [
        "# 학습 결과를 확인 (평가 지표.)\n",
        "\n",
        "## TO-DO : Random Forest에 대한 결과도 추가해서 출력해보세요!\n",
        "from sklearn.metrics import mean_squared_error, r2_score, mean_absolute_error\n",
        "\n",
        "pred = reg.predict(X_train) # y_hat\n",
        "pred2 = reg2.predict(X_train)\n",
        "# pred3 = reg3.predict(X_train) # y_hat\n",
        "\n",
        "# pred4 = reg4.predict(X2_train)\n",
        "# pred3 = reg3.predict(X_train) \n",
        "\n",
        "# val_pred = reg.predict(X_val)\n",
        "# val_pred2 = reg2.predict(X_val)\n",
        "# val_pred3 = reg3.predict(X_val)\n",
        "\n",
        "print(\"----- Training -----\")\n",
        "print(\"--- Linear Regression ---\")\n",
        "print(\"MSE : %.4f\" % mean_squared_error(y_train, pred))\n",
        "print(\"MAE : %.4f\" % mean_absolute_error(y_train, pred))\n",
        "print(\"R2 : %.4f\" % r2_score(y_train, pred))\n",
        "\n",
        "print(\"\\n\\n--- LightGBM ---\")\n",
        "print(\"MSE : %.4f\" % mean_squared_error(y_train, pred2))\n",
        "print(\"MAE : %.4f\" % mean_absolute_error(y_train, pred2))\n",
        "print(\"R2 : %.4f\" % r2_score(y_train, pred2))\n",
        "\n",
        "# print(\"\\n\\n--- XGB ---\")\n",
        "# print(\"MSE : %.4f\" % mean_squared_error(y_train, pred3))\n",
        "# print(\"MAE : %.4f\" % mean_absolute_error(y_train, pred3))\n",
        "# print(\"R2 : %.4f\" % r2_score(y_train, pred3))\n",
        "\n",
        "# print(\"\\n\\n--- LightGBM2 ---\")\n",
        "# print(\"MSE : %.4f\" % mean_squared_error(y2_train, pred4))\n",
        "# print(\"MAE : %.4f\" % mean_absolute_error(y_train, pred4))\n",
        "# print(\"R2 : %.4f\" % r2_score(y2_train, pred4))\n",
        "\n",
        "# print(\"\\n\\n--- XGBoost ---\")\n",
        "# print(\"MSE : %.4f\" % mean_squared_error(y_train, pred3))\n",
        "# print(\"R2 : %.4f\" % r2_score(y_train, pred3))\n",
        "\n",
        "# print(\"\\n\\n----- Validation -----\")\n",
        "# print(\"--- Linear Regression ---\")\n",
        "# print(\"MSE : %.4f\" % mean_squared_error(y_val, val_pred))\n",
        "# print(\"R2 : %.4f\" % r2_score(y_val, val_pred))\n",
        "# print(\"\\n\\n--- LightGBM ---\")\n",
        "# print(\"MSE : %.4f\" % mean_squared_error(y_val, val_pred2))\n",
        "# print(\"R2 : %.4f\" % r2_score(y_val, val_pred2))\n",
        "# print(\"\\n\\n--- RandomForest ---\")\n",
        "# print(\"MSE : %.4f\" % mean_squared_error(y_val, val_pred3))\n",
        "# print(\"R2 : %.4f\" % r2_score(y_val, val_pred3))"
      ]
    },
    {
      "cell_type": "code",
      "execution_count": 36,
      "id": "Fq0Rs599TdpG",
      "metadata": {
        "colab": {
          "base_uri": "https://localhost:8080/"
        },
        "id": "Fq0Rs599TdpG",
        "outputId": "c9c8d4f6-a01d-4922-f41d-a741cf15517a"
      },
      "outputs": [
        {
          "output_type": "stream",
          "name": "stdout",
          "text": [
            "----- Test -----\n",
            "--- Linear Regression ---\n",
            "MSE : 0.0153\n",
            "MAE : 0.0954\n",
            "R2 : 0.8382\n",
            "\n",
            "\n",
            "--- LightGBM ---\n",
            "MSE : 0.0080\n",
            "MAE : 0.0678\n",
            "R2 : 0.9149\n"
          ]
        }
      ],
      "source": [
        "result = reg.predict(X_test)\n",
        "result2 = reg2.predict(X_test)\n",
        "# result3 = reg3.predict(X_test)\n",
        "# result4 = reg4.predict(X2_test)\n",
        "\n",
        "print(\"----- Test -----\")\n",
        "print(\"--- Linear Regression ---\")\n",
        "print(\"MSE : %.4f\" % mean_squared_error(y_test, result))\n",
        "print(\"MAE : %.4f\" % mean_absolute_error(y_test, result))\n",
        "print(\"R2 : %.4f\" % r2_score(y_test, result))\n",
        "print(\"\\n\\n--- LightGBM ---\")\n",
        "print(\"MSE : %.4f\" % mean_squared_error(y_test, result2))\n",
        "print(\"MAE : %.4f\" % mean_absolute_error(y_test, result2))\n",
        "print(\"R2 : %.4f\" % r2_score(y_test, result2))\n",
        "# print(\"\\n\\n--- XGB ---\")\n",
        "# print(\"MSE : %.4f\" % mean_squared_error(y_test, result3))\n",
        "# print(\"MAE : %.4f\" % mean_absolute_error(y_test, result3))\n",
        "# print(\"R2 : %.4f\" % r2_score(y_test, result3))\n",
        "# print(\"\\n\\n=---XGBoost ---\")\n",
        "# print(\"MSE : %.4f\" %mean_squared_error(y_test, result3))\n",
        "# print(\"R2 : %.4f\"% r2_score(y_test, result3))"
      ]
    },
    {
      "cell_type": "markdown",
      "id": "bc755b17",
      "metadata": {
        "id": "bc755b17"
      },
      "source": [
        "### 6. Hyper-parameter Tuning"
      ]
    },
    {
      "cell_type": "markdown",
      "id": "60070d0e",
      "metadata": {
        "id": "60070d0e"
      },
      "source": [
        "> GridSearchCV"
      ]
    },
    {
      "cell_type": "markdown",
      "id": "2bf886a9",
      "metadata": {
        "id": "2bf886a9"
      },
      "source": [
        "** LightGBM의 hyperparameter **\n",
        "\n",
        "[Official Documentation] https://lightgbm.readthedocs.io/en/latest/Parameters-Tuning.html \n",
        "\n",
        "[Blog 1] https://smecsm.tistory.com/133\n",
        "\n",
        "[Blog 2] https://towardsdatascience.com/kagglers-guide-to-lightgbm-hyperparameter-tuning-with-optuna-in-2021-ed048d9838b5\n",
        "\n",
        "[Blog 3] https://nurilee.com/2020/04/03/lightgbm-definition-parameter-tuning/"
      ]
    },
    {
      "cell_type": "code",
      "execution_count": null,
      "id": "815dcbef",
      "metadata": {
        "colab": {
          "base_uri": "https://localhost:8080/"
        },
        "id": "815dcbef",
        "outputId": "0f4bf15f-db38-44b0-b53d-5b158f640ad4",
        "scrolled": true
      },
      "outputs": [
        {
          "name": "stdout",
          "output_type": "stream",
          "text": [
            "Fitting 5 folds for each of 18 candidates, totalling 90 fits\n"
          ]
        },
        {
          "name": "stderr",
          "output_type": "stream",
          "text": [
            "/usr/local/lib/python3.7/dist-packages/joblib/externals/loky/process_executor.py:705: UserWarning: A worker stopped while some jobs were given to the executor. This can be caused by a too short worker timeout or by a memory leak.\n",
            "  \"timeout or by a memory leak.\", UserWarning\n"
          ]
        }
      ],
      "source": [
        "# GridSearchCV를 이용하여 가장 좋은 성능을 가지는 모델을 찾아봅시다. (이것은 첫번째엔 선택입니다.)\n",
        "# Lightgbm은 hyper-parameter의 영향을 많이 받기 때문에, 저는 보통 맨처음에 한번 정도는 가볍게 GCV를 해봅니다.\n",
        "# 성능 향상이 별로 없다면, lightgbm으로 돌린 대략적인 성능이 이 정도라고 생각하면 됩니다.\n",
        "# 만약 성능 향상이 크다면, 지금 데이터는 hyper-parameter tuning을 빡빡하게 하면 성능 향상이 많이 이끌어 낼 수 있습니다.\n",
        "\n",
        "from sklearn.model_selection import GridSearchCV\n",
        "\n",
        "param_grid = {\n",
        "    \"max_depth\" : [3, 4, -1],\n",
        "    \"n_estimators\" : [50, 100],\n",
        "    #\"max_bin\" : [20],\n",
        "    \"learning_rate\" : [0.01, 0.001, 0.0025],\n",
        "    \"objective\" : [\"regression\"],\n",
        "    #\"boosting_type\" : [\"gbdt\"],\n",
        "    \"metric\" : [\"mae\"],\n",
        "    #\"sub_feature\" : [0.345],\n",
        "    #\"bagging_fraction\" : [0.7, 0.75, 0.85],\n",
        "    #\"bagging_freq\" : [40],\n",
        "    #\"num_leaves\" : [256, 512],\n",
        "    #\"min_data\" : [500],\n",
        "    \"verbose\" : [-1], # 필수\n",
        "    #\"min_hessian\" : [0.05],\n",
        "    #\"feature_fraction_seed\" : [2],\n",
        "    #\"bagging_seed\" : [3]\n",
        "}\n",
        "\n",
        "\n",
        "gcv = GridSearchCV(estimator=model, param_grid=param_grid, cv=5,\n",
        "                  n_jobs=-1, verbose=1)\n",
        "\n",
        "gcv.fit(X_train, y_train)\n",
        "print(\"Best Estimator : \", gcv.best_estimator_)"
      ]
    },
    {
      "cell_type": "code",
      "execution_count": null,
      "id": "9ec6ac14",
      "metadata": {
        "id": "9ec6ac14"
      },
      "outputs": [],
      "source": [
        "print(\"Prediction with Best Estimator\")\n",
        "gcv_pred_train = gcv.predict(X_train)\n",
        "gcv_pred_test = gcv.predict(X_test)\n",
        "\n",
        "gcv_train_score = evaluation_metric(y_train, gcv_pred_train)\n",
        "gcv_test_score = evaluation_metric(y_test, gcv_pred_test)\n",
        "\n",
        "print(\"Train MAE Score : %.4f\" % gcv_train_score)\n",
        "print(\"Test MAE Score : %.4f\" % gcv_test_score)"
      ]
    },
    {
      "cell_type": "code",
      "execution_count": null,
      "id": "3b852da7",
      "metadata": {
        "id": "3b852da7"
      },
      "outputs": [],
      "source": [
        "print(\"Performance Gain\") # 이걸로 성능 향상 확인.\n",
        "print(\"in train : \", (train_score - gcv_train_score))\n",
        "print(\"in test : \", (test_score - gcv_test_score))"
      ]
    },
    {
      "cell_type": "markdown",
      "id": "97e5302d",
      "metadata": {
        "id": "97e5302d"
      },
      "source": [
        "> optuna를 사용해봅시다 !"
      ]
    },
    {
      "cell_type": "code",
      "execution_count": null,
      "id": "34ce4986",
      "metadata": {
        "id": "34ce4986"
      },
      "outputs": [],
      "source": [
        "def optimizer(trial, X, y, K):\n",
        "    # 조절할 hyper-parameter 조합을 적어줍니다.\n",
        "    n_estimators = \n",
        "    max_depth = \n",
        "    max_features = \n",
        "    \n",
        "    \n",
        "    # 원하는 모델을 지정합니다, optuna는 시간이 오래걸리기 때문에 저는 보통 RF로 일단 테스트를 해본 뒤에 LGBM을 사용합니다.\n",
        "    model = RandomForestRegressor(n_estimators=n_estimators,\n",
        "                                 max_depth=max_depth,\n",
        "                                 max_features=max_features)\n",
        "    \n",
        "    \n",
        "    # K-Fold Cross validation을 구현합니다.\n",
        "    folds = KFold(n_splits=K)\n",
        "    losses = []\n",
        "    \n",
        "    for train_idx, val_idx in folds.split(X, y):\n",
        "        X_train = X.iloc[train_idx, :]\n",
        "        y_train = y.iloc[train_idx]\n",
        "        \n",
        "        X_val = X.iloc[val_idx, :]\n",
        "        y_val = y.iloc[val_idx]\n",
        "        \n",
        "        model.fit(X_train, y_train)\n",
        "        preds = model.predict(X_val)\n",
        "        loss = mean_absolute_error(y_val, preds)\n",
        "        losses.append(loss)\n",
        "    \n",
        "    \n",
        "    # K-Fold의 평균 loss값을 돌려줍니다.\n",
        "    return np.mean(losses)"
      ]
    },
    {
      "cell_type": "code",
      "execution_count": null,
      "id": "7150b210",
      "metadata": {
        "id": "7150b210",
        "scrolled": false
      },
      "outputs": [],
      "source": [
        "K = # Kfold 수\n",
        "opt_func = partial(optimizer, X=X_train, y=y_train, K)\n",
        "\n",
        "study = optuna.create_study(direction=\"minimize\") # 최소/최대 어느 방향의 최적값을 구할 건지.\n",
        "study.optimize(opt_func, n_trials=5)"
      ]
    },
    {
      "cell_type": "code",
      "execution_count": null,
      "id": "72d0a118",
      "metadata": {
        "id": "72d0a118"
      },
      "outputs": [],
      "source": [
        "# optuna가 시도했던 모든 실험 관련 데이터\n",
        "study.trials_dataframe()"
      ]
    },
    {
      "cell_type": "code",
      "execution_count": null,
      "id": "a805da05",
      "metadata": {
        "id": "a805da05"
      },
      "outputs": [],
      "source": [
        "print(\"Best Score: %.4f\" % study.best_value) # best score 출력\n",
        "print(\"Best params: \", study.best_trial.params) # best score일 때의 하이퍼파라미터들"
      ]
    },
    {
      "cell_type": "code",
      "execution_count": null,
      "id": "051ae1eb",
      "metadata": {
        "id": "051ae1eb"
      },
      "outputs": [],
      "source": [
        "# 실험 기록 시각화\n",
        "optuna.visualization.plot_optimization_history(study)"
      ]
    },
    {
      "cell_type": "code",
      "execution_count": null,
      "id": "efbf8f65",
      "metadata": {
        "id": "efbf8f65",
        "scrolled": false
      },
      "outputs": [],
      "source": [
        "# hyper-parameter들의 중요도\n",
        "optuna.visualization.plot_param_importances(study)"
      ]
    },
    {
      "cell_type": "markdown",
      "id": "24b360ec",
      "metadata": {
        "id": "24b360ec"
      },
      "source": [
        "### 7. 테스트 및 제출 파일 생성"
      ]
    },
    {
      "cell_type": "code",
      "execution_count": null,
      "id": "ToHdFHIXmUMD",
      "metadata": {
        "id": "ToHdFHIXmUMD"
      },
      "outputs": [],
      "source": [
        "result = reg.predict(test1)\n",
        "result2 = reg2.predict(test1) \n",
        "result3 = reg3.predict(test1)\n"
      ]
    },
    {
      "cell_type": "code",
      "execution_count": null,
      "id": "2ij4jJ1Jm0TA",
      "metadata": {
        "colab": {
          "base_uri": "https://localhost:8080/",
          "height": 424
        },
        "id": "2ij4jJ1Jm0TA",
        "outputId": "7f1d4e37-11e2-416a-dc5b-0434a0eaa732"
      },
      "outputs": [
        {
          "data": {
            "text/html": [
              "\n",
              "  <div id=\"df-3d409175-2351-4b39-8c15-9e6d5ee70a4b\">\n",
              "    <div class=\"colab-df-container\">\n",
              "      <div>\n",
              "<style scoped>\n",
              "    .dataframe tbody tr th:only-of-type {\n",
              "        vertical-align: middle;\n",
              "    }\n",
              "\n",
              "    .dataframe tbody tr th {\n",
              "        vertical-align: top;\n",
              "    }\n",
              "\n",
              "    .dataframe thead th {\n",
              "        text-align: right;\n",
              "    }\n",
              "</style>\n",
              "<table border=\"1\" class=\"dataframe\">\n",
              "  <thead>\n",
              "    <tr style=\"text-align: right;\">\n",
              "      <th></th>\n",
              "      <th>Id</th>\n",
              "      <th>winPlacePerc</th>\n",
              "    </tr>\n",
              "  </thead>\n",
              "  <tbody>\n",
              "    <tr>\n",
              "      <th>0</th>\n",
              "      <td>9329eb41e215eb</td>\n",
              "      <td>0.262470</td>\n",
              "    </tr>\n",
              "    <tr>\n",
              "      <th>1</th>\n",
              "      <td>639bd0dcd7bda8</td>\n",
              "      <td>0.943501</td>\n",
              "    </tr>\n",
              "    <tr>\n",
              "      <th>2</th>\n",
              "      <td>63d5c8ef8dfe91</td>\n",
              "      <td>0.634434</td>\n",
              "    </tr>\n",
              "    <tr>\n",
              "      <th>3</th>\n",
              "      <td>cf5b81422591d1</td>\n",
              "      <td>0.548722</td>\n",
              "    </tr>\n",
              "    <tr>\n",
              "      <th>4</th>\n",
              "      <td>ee6a295187ba21</td>\n",
              "      <td>0.928396</td>\n",
              "    </tr>\n",
              "    <tr>\n",
              "      <th>...</th>\n",
              "      <td>...</td>\n",
              "      <td>...</td>\n",
              "    </tr>\n",
              "    <tr>\n",
              "      <th>1934169</th>\n",
              "      <td>a316c3a13887d5</td>\n",
              "      <td>0.741506</td>\n",
              "    </tr>\n",
              "    <tr>\n",
              "      <th>1934170</th>\n",
              "      <td>5312146b27d875</td>\n",
              "      <td>0.428993</td>\n",
              "    </tr>\n",
              "    <tr>\n",
              "      <th>1934171</th>\n",
              "      <td>fc8818b5b32ad3</td>\n",
              "      <td>0.884632</td>\n",
              "    </tr>\n",
              "    <tr>\n",
              "      <th>1934172</th>\n",
              "      <td>a0f91e35f8458f</td>\n",
              "      <td>0.835312</td>\n",
              "    </tr>\n",
              "    <tr>\n",
              "      <th>1934173</th>\n",
              "      <td>3696fc9f3a42b2</td>\n",
              "      <td>0.067206</td>\n",
              "    </tr>\n",
              "  </tbody>\n",
              "</table>\n",
              "<p>1934174 rows × 2 columns</p>\n",
              "</div>\n",
              "      <button class=\"colab-df-convert\" onclick=\"convertToInteractive('df-3d409175-2351-4b39-8c15-9e6d5ee70a4b')\"\n",
              "              title=\"Convert this dataframe to an interactive table.\"\n",
              "              style=\"display:none;\">\n",
              "        \n",
              "  <svg xmlns=\"http://www.w3.org/2000/svg\" height=\"24px\"viewBox=\"0 0 24 24\"\n",
              "       width=\"24px\">\n",
              "    <path d=\"M0 0h24v24H0V0z\" fill=\"none\"/>\n",
              "    <path d=\"M18.56 5.44l.94 2.06.94-2.06 2.06-.94-2.06-.94-.94-2.06-.94 2.06-2.06.94zm-11 1L8.5 8.5l.94-2.06 2.06-.94-2.06-.94L8.5 2.5l-.94 2.06-2.06.94zm10 10l.94 2.06.94-2.06 2.06-.94-2.06-.94-.94-2.06-.94 2.06-2.06.94z\"/><path d=\"M17.41 7.96l-1.37-1.37c-.4-.4-.92-.59-1.43-.59-.52 0-1.04.2-1.43.59L10.3 9.45l-7.72 7.72c-.78.78-.78 2.05 0 2.83L4 21.41c.39.39.9.59 1.41.59.51 0 1.02-.2 1.41-.59l7.78-7.78 2.81-2.81c.8-.78.8-2.07 0-2.86zM5.41 20L4 18.59l7.72-7.72 1.47 1.35L5.41 20z\"/>\n",
              "  </svg>\n",
              "      </button>\n",
              "      \n",
              "  <style>\n",
              "    .colab-df-container {\n",
              "      display:flex;\n",
              "      flex-wrap:wrap;\n",
              "      gap: 12px;\n",
              "    }\n",
              "\n",
              "    .colab-df-convert {\n",
              "      background-color: #E8F0FE;\n",
              "      border: none;\n",
              "      border-radius: 50%;\n",
              "      cursor: pointer;\n",
              "      display: none;\n",
              "      fill: #1967D2;\n",
              "      height: 32px;\n",
              "      padding: 0 0 0 0;\n",
              "      width: 32px;\n",
              "    }\n",
              "\n",
              "    .colab-df-convert:hover {\n",
              "      background-color: #E2EBFA;\n",
              "      box-shadow: 0px 1px 2px rgba(60, 64, 67, 0.3), 0px 1px 3px 1px rgba(60, 64, 67, 0.15);\n",
              "      fill: #174EA6;\n",
              "    }\n",
              "\n",
              "    [theme=dark] .colab-df-convert {\n",
              "      background-color: #3B4455;\n",
              "      fill: #D2E3FC;\n",
              "    }\n",
              "\n",
              "    [theme=dark] .colab-df-convert:hover {\n",
              "      background-color: #434B5C;\n",
              "      box-shadow: 0px 1px 3px 1px rgba(0, 0, 0, 0.15);\n",
              "      filter: drop-shadow(0px 1px 2px rgba(0, 0, 0, 0.3));\n",
              "      fill: #FFFFFF;\n",
              "    }\n",
              "  </style>\n",
              "\n",
              "      <script>\n",
              "        const buttonEl =\n",
              "          document.querySelector('#df-3d409175-2351-4b39-8c15-9e6d5ee70a4b button.colab-df-convert');\n",
              "        buttonEl.style.display =\n",
              "          google.colab.kernel.accessAllowed ? 'block' : 'none';\n",
              "\n",
              "        async function convertToInteractive(key) {\n",
              "          const element = document.querySelector('#df-3d409175-2351-4b39-8c15-9e6d5ee70a4b');\n",
              "          const dataTable =\n",
              "            await google.colab.kernel.invokeFunction('convertToInteractive',\n",
              "                                                     [key], {});\n",
              "          if (!dataTable) return;\n",
              "\n",
              "          const docLinkHtml = 'Like what you see? Visit the ' +\n",
              "            '<a target=\"_blank\" href=https://colab.research.google.com/notebooks/data_table.ipynb>data table notebook</a>'\n",
              "            + ' to learn more about interactive tables.';\n",
              "          element.innerHTML = '';\n",
              "          dataTable['output_type'] = 'display_data';\n",
              "          await google.colab.output.renderOutput(dataTable, element);\n",
              "          const docLink = document.createElement('div');\n",
              "          docLink.innerHTML = docLinkHtml;\n",
              "          element.appendChild(docLink);\n",
              "        }\n",
              "      </script>\n",
              "    </div>\n",
              "  </div>\n",
              "  "
            ],
            "text/plain": [
              "                     Id  winPlacePerc\n",
              "0        9329eb41e215eb      0.262470\n",
              "1        639bd0dcd7bda8      0.943501\n",
              "2        63d5c8ef8dfe91      0.634434\n",
              "3        cf5b81422591d1      0.548722\n",
              "4        ee6a295187ba21      0.928396\n",
              "...                 ...           ...\n",
              "1934169  a316c3a13887d5      0.741506\n",
              "1934170  5312146b27d875      0.428993\n",
              "1934171  fc8818b5b32ad3      0.884632\n",
              "1934172  a0f91e35f8458f      0.835312\n",
              "1934173  3696fc9f3a42b2      0.067206\n",
              "\n",
              "[1934174 rows x 2 columns]"
            ]
          },
          "execution_count": 18,
          "metadata": {},
          "output_type": "execute_result"
        }
      ],
      "source": [
        "submission['winPlacePerc'] = result2\n",
        "submission"
      ]
    },
    {
      "cell_type": "code",
      "execution_count": null,
      "id": "KWOSF3tHYyKE",
      "metadata": {
        "id": "KWOSF3tHYyKE"
      },
      "outputs": [],
      "source": [
        "submission.to_csv(base_path + \"submission.csv\", index=False)"
      ]
    },
    {
      "cell_type": "code",
      "execution_count": null,
      "id": "a0daf54e",
      "metadata": {
        "id": "a0daf54e"
      },
      "outputs": [],
      "source": [
        "model = RandomForestRegressor(n_estimators=study.best_trial.params[\"n_estimators\"],\n",
        "                                 max_depth=study.best_trial.params[\"max_depth\"],\n",
        "                                 max_features=study.best_trial.params[\"max_features\"])\n",
        "\n",
        "model.fit(X_train, y_train)\n",
        "preds = model.predict(X_test)\n",
        "preds"
      ]
    },
    {
      "cell_type": "code",
      "execution_count": null,
      "id": "dfa0db70",
      "metadata": {
        "id": "dfa0db70"
      },
      "outputs": [],
      "source": [
        "X_test # 원본 데이터랑 id가 맞는지 확인 해보기!"
      ]
    },
    {
      "cell_type": "code",
      "execution_count": null,
      "id": "8ff2070c",
      "metadata": {
        "id": "8ff2070c"
      },
      "outputs": [],
      "source": [
        "submission = pd.DataFrame() # submission을 생성합니다.\n",
        "submission"
      ]
    },
    {
      "cell_type": "code",
      "execution_count": null,
      "id": "55a2c13f",
      "metadata": {
        "id": "55a2c13f"
      },
      "outputs": [],
      "source": [
        "submission.reset_index(drop=True).to_csv(\"submission.csv\", index=False)"
      ]
    }
  ],
  "metadata": {
    "colab": {
      "collapsed_sections": [
        "8f3119aa",
        "c9c9acb8",
        "9dbb8802",
        "b79a6f0a",
        "0b757dc0",
        "JdO_MINum6pR",
        "606493f0",
        "bc755b17"
      ],
      "name": "[최하은_Modelling_Final] ",
      "provenance": []
    },
    "kernelspec": {
      "display_name": "Python 3 (ipykernel)",
      "language": "python",
      "name": "python3"
    },
    "language_info": {
      "codemirror_mode": {
        "name": "ipython",
        "version": 3
      },
      "file_extension": ".py",
      "mimetype": "text/x-python",
      "name": "python",
      "nbconvert_exporter": "python",
      "pygments_lexer": "ipython3",
      "version": "3.8.13"
    }
  },
  "nbformat": 4,
  "nbformat_minor": 5
}
