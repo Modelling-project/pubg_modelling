{
 "cells": [
  {
   "cell_type": "markdown",
   "metadata": {},
   "source": [
    "## Import & Load"
   ]
  },
  {
   "cell_type": "code",
   "execution_count": 1,
   "metadata": {},
   "outputs": [],
   "source": [
    "import numpy as np\n",
    "import pandas as pd\n",
    "from sklearn.model_selection import train_test_split\n",
    "from sklearn.metrics import mean_absolute_error\n",
    "from localfunc import reduce_ram_usage\n",
    "from lightgbm import LGBMRegressor\n",
    "import gc\n",
    "from category_encoders import BinaryEncoder"
   ]
  },
  {
   "cell_type": "code",
   "execution_count": 2,
   "metadata": {},
   "outputs": [
    {
     "name": "stdout",
     "output_type": "stream",
     "text": [
      "Data loading...\n"
     ]
    }
   ],
   "source": [
    "print(\"Data loading...\")\n",
    "train = pd.read_csv(\"./data/train_V2.csv\")\n",
    "test = pd.read_csv(\"./data/test_V2.csv\")"
   ]
  },
  {
   "cell_type": "markdown",
   "metadata": {},
   "source": [
    "### Check (just in case)"
   ]
  },
  {
   "cell_type": "code",
   "execution_count": 4,
   "metadata": {},
   "outputs": [
    {
     "data": {
      "text/plain": [
       "Id                 0\n",
       "groupId            0\n",
       "matchId            0\n",
       "assists            0\n",
       "boosts             0\n",
       "damageDealt        0\n",
       "DBNOs              0\n",
       "headshotKills      0\n",
       "heals              0\n",
       "killPlace          0\n",
       "killPoints         0\n",
       "kills              0\n",
       "killStreaks        0\n",
       "longestKill        0\n",
       "matchDuration      0\n",
       "matchType          0\n",
       "maxPlace           0\n",
       "numGroups          0\n",
       "rankPoints         0\n",
       "revives            0\n",
       "rideDistance       0\n",
       "roadKills          0\n",
       "swimDistance       0\n",
       "teamKills          0\n",
       "vehicleDestroys    0\n",
       "walkDistance       0\n",
       "weaponsAcquired    0\n",
       "winPoints          0\n",
       "dtype: int64"
      ]
     },
     "execution_count": 4,
     "metadata": {},
     "output_type": "execute_result"
    }
   ],
   "source": [
    "test.isnull().sum()"
   ]
  },
  {
   "cell_type": "markdown",
   "metadata": {},
   "source": [
    "## Pre-Processing"
   ]
  },
  {
   "cell_type": "code",
   "execution_count": 3,
   "metadata": {},
   "outputs": [
    {
     "data": {
      "text/plain": [
       "(4446966, 29)"
      ]
     },
     "execution_count": 3,
     "metadata": {},
     "output_type": "execute_result"
    }
   ],
   "source": [
    "train_bak = train.copy()\n",
    "train_bak.shape             #테스트 및 백업. 실행시키지 말 것!!!!"
   ]
  },
  {
   "cell_type": "markdown",
   "metadata": {},
   "source": [
    "### Drop null column"
   ]
  },
  {
   "cell_type": "code",
   "execution_count": 55,
   "metadata": {},
   "outputs": [
    {
     "name": "stdout",
     "output_type": "stream",
     "text": [
      "Pre-Processing...\n"
     ]
    }
   ],
   "source": [
    "print(\"Pre-Processing...\")\n",
    "train = train_bak.copy()  #--\n",
    "for i in train.columns.to_list() :\n",
    "    train.drop(index=train[train[i].isnull()==True].index, inplace=True)\n",
    "\n",
    "train_bak_null = train.copy() #--"
   ]
  },
  {
   "cell_type": "markdown",
   "metadata": {},
   "source": [
    "### Drop Outlier"
   ]
  },
  {
   "cell_type": "code",
   "execution_count": 115,
   "metadata": {},
   "outputs": [
    {
     "name": "stdout",
     "output_type": "stream",
     "text": [
      "Droping Outliers...\n",
      "50012 Columns Deleted\n"
     ]
    }
   ],
   "source": [
    "\n",
    "print(\"Droping Outliers...\")\n",
    "train = train_bak_null.copy() #--\n",
    "vip_features = [\"assists\",\"boosts\",\"DBNOs\",\"heals\",\"kills\",\"killStreaks\",\"walkDistance\", \"revives\", \"roadKills\", \"vehicleDestroys\"]\n",
    "dpidx_sum=0\n",
    "\n",
    "for col in (vip_features + [\"damageDealt\",\"longestKill\", \"rideDistance\", \"swimDistance\",\"weaponsAcquired\", \"matchDuration\"]):\n",
    "    dpidx = train[train[col]>train[col].quantile(0.999)].index\n",
    "    train.drop(index=dpidx, inplace=True)\n",
    "    dpidx_sum += len(dpidx)\n",
    "     \n",
    "for col in vip_features:\n",
    "    dpidx = train[train[\"walkDistance\"]<train[col]].index\n",
    "    train.drop(index=dpidx, inplace=True)\n",
    "    dpidx_sum += len(dpidx)\n",
    "    \n",
    "\n",
    "dpidx = train[ train.groupby('matchId')['kills'].transform('max')  > train.groupby('matchId')['Id'].transform('count')  ].index\n",
    "train.drop(index=dpidx, inplace=True)\n",
    "dpidx_sum += len(dpidx)\n",
    "               \n",
    "dpidx=train[ (train['rideDistance']==0) & (train['roadKills']>0)  ].index   \n",
    "train.drop(index=dpidx, inplace=True)\n",
    "dpidx_sum += len(dpidx)\n",
    "           \n",
    "print(f\"{dpidx_sum} Columns Deleted\") \n",
    "\n",
    "del dpidx_sum, dpidx\n",
    "gc.collect()             "
   ]
  },
  {
   "cell_type": "markdown",
   "metadata": {},
   "source": [
    "### Encoding (필요가 있는지는 잘 모르겠음)"
   ]
  },
  {
   "cell_type": "code",
   "execution_count": 83,
   "metadata": {},
   "outputs": [],
   "source": [
    "\n",
    "train = train_bak_null.copy() #--\n",
    "\n",
    "mapper = lambda x: 'normal' if ('normal' in x) or ('crash' in x)or ('flare' in x)else x \n",
    "train[\"matchType\"]=train[\"matchType\"].apply(mapper)\n",
    "\n",
    "mapper = lambda x: 'solo' if ('solo' in x) else 'duo' if ('duo' in x) else 'normal' if ('normal' in x) else 'squad' \n",
    "train[\"matchType\"]=train[\"matchType\"].apply(mapper)\n",
    "\n",
    "train = pd.concat([train,pd.get_dummies(train[\"matchType\"])], axis=1)\n",
    "\n",
    "del mapper"
   ]
  },
  {
   "cell_type": "markdown",
   "metadata": {},
   "source": [
    "### Make Columns"
   ]
  },
  {
   "cell_type": "markdown",
   "metadata": {},
   "source": [
    "    - groupId\n",
    "    - matchId\n",
    "    - matchType\n",
    "    - maxPlace (≈numGroups)"
   ]
  },
  {
   "cell_type": "code",
   "execution_count": 106,
   "metadata": {},
   "outputs": [
    {
     "data": {
      "text/html": [
       "<div>\n",
       "<style scoped>\n",
       "    .dataframe tbody tr th:only-of-type {\n",
       "        vertical-align: middle;\n",
       "    }\n",
       "\n",
       "    .dataframe tbody tr th {\n",
       "        vertical-align: top;\n",
       "    }\n",
       "\n",
       "    .dataframe thead th {\n",
       "        text-align: right;\n",
       "    }\n",
       "</style>\n",
       "<table border=\"1\" class=\"dataframe\">\n",
       "  <thead>\n",
       "    <tr style=\"text-align: right;\">\n",
       "      <th></th>\n",
       "      <th>Id</th>\n",
       "      <th>groupId</th>\n",
       "      <th>matchId</th>\n",
       "      <th>assists</th>\n",
       "      <th>boosts</th>\n",
       "      <th>damageDealt</th>\n",
       "      <th>DBNOs</th>\n",
       "      <th>headshotKills</th>\n",
       "      <th>heals</th>\n",
       "      <th>killPlace</th>\n",
       "      <th>...</th>\n",
       "      <th>teamKills</th>\n",
       "      <th>vehicleDestroys</th>\n",
       "      <th>walkDistance</th>\n",
       "      <th>weaponsAcquired</th>\n",
       "      <th>winPoints</th>\n",
       "      <th>winPlacePerc</th>\n",
       "      <th>duo</th>\n",
       "      <th>normal</th>\n",
       "      <th>solo</th>\n",
       "      <th>squad</th>\n",
       "    </tr>\n",
       "  </thead>\n",
       "  <tbody>\n",
       "    <tr>\n",
       "      <th>7931</th>\n",
       "      <td>a121348062f67a</td>\n",
       "      <td>7bd08592bb25e2</td>\n",
       "      <td>0000a43bce5eec</td>\n",
       "      <td>0</td>\n",
       "      <td>1</td>\n",
       "      <td>0.0</td>\n",
       "      <td>0</td>\n",
       "      <td>0</td>\n",
       "      <td>1</td>\n",
       "      <td>41</td>\n",
       "      <td>...</td>\n",
       "      <td>0</td>\n",
       "      <td>0</td>\n",
       "      <td>2723.00</td>\n",
       "      <td>3</td>\n",
       "      <td>1502</td>\n",
       "      <td>0.6667</td>\n",
       "      <td>0</td>\n",
       "      <td>0</td>\n",
       "      <td>0</td>\n",
       "      <td>1</td>\n",
       "    </tr>\n",
       "    <tr>\n",
       "      <th>101714</th>\n",
       "      <td>731b2318b2adf2</td>\n",
       "      <td>8ebb76fe544c27</td>\n",
       "      <td>0000a43bce5eec</td>\n",
       "      <td>0</td>\n",
       "      <td>2</td>\n",
       "      <td>0.0</td>\n",
       "      <td>0</td>\n",
       "      <td>0</td>\n",
       "      <td>4</td>\n",
       "      <td>45</td>\n",
       "      <td>...</td>\n",
       "      <td>0</td>\n",
       "      <td>0</td>\n",
       "      <td>1241.00</td>\n",
       "      <td>3</td>\n",
       "      <td>1471</td>\n",
       "      <td>0.6296</td>\n",
       "      <td>0</td>\n",
       "      <td>0</td>\n",
       "      <td>0</td>\n",
       "      <td>1</td>\n",
       "    </tr>\n",
       "    <tr>\n",
       "      <th>134000</th>\n",
       "      <td>503ae3c191575b</td>\n",
       "      <td>97364d4199bf30</td>\n",
       "      <td>0000a43bce5eec</td>\n",
       "      <td>0</td>\n",
       "      <td>0</td>\n",
       "      <td>0.0</td>\n",
       "      <td>0</td>\n",
       "      <td>0</td>\n",
       "      <td>0</td>\n",
       "      <td>78</td>\n",
       "      <td>...</td>\n",
       "      <td>0</td>\n",
       "      <td>0</td>\n",
       "      <td>37.38</td>\n",
       "      <td>1</td>\n",
       "      <td>1476</td>\n",
       "      <td>0.1111</td>\n",
       "      <td>0</td>\n",
       "      <td>0</td>\n",
       "      <td>0</td>\n",
       "      <td>1</td>\n",
       "    </tr>\n",
       "    <tr>\n",
       "      <th>310967</th>\n",
       "      <td>8bc0d095f488b4</td>\n",
       "      <td>767819928e6279</td>\n",
       "      <td>0000a43bce5eec</td>\n",
       "      <td>1</td>\n",
       "      <td>0</td>\n",
       "      <td>81.9</td>\n",
       "      <td>0</td>\n",
       "      <td>0</td>\n",
       "      <td>0</td>\n",
       "      <td>67</td>\n",
       "      <td>...</td>\n",
       "      <td>0</td>\n",
       "      <td>0</td>\n",
       "      <td>93.47</td>\n",
       "      <td>2</td>\n",
       "      <td>1481</td>\n",
       "      <td>0.2593</td>\n",
       "      <td>0</td>\n",
       "      <td>0</td>\n",
       "      <td>0</td>\n",
       "      <td>1</td>\n",
       "    </tr>\n",
       "    <tr>\n",
       "      <th>329124</th>\n",
       "      <td>2267f810807e22</td>\n",
       "      <td>e8ff1c0fe7f6aa</td>\n",
       "      <td>0000a43bce5eec</td>\n",
       "      <td>0</td>\n",
       "      <td>0</td>\n",
       "      <td>0.0</td>\n",
       "      <td>0</td>\n",
       "      <td>0</td>\n",
       "      <td>0</td>\n",
       "      <td>84</td>\n",
       "      <td>...</td>\n",
       "      <td>0</td>\n",
       "      <td>0</td>\n",
       "      <td>45.05</td>\n",
       "      <td>2</td>\n",
       "      <td>1460</td>\n",
       "      <td>0.0741</td>\n",
       "      <td>0</td>\n",
       "      <td>0</td>\n",
       "      <td>0</td>\n",
       "      <td>1</td>\n",
       "    </tr>\n",
       "    <tr>\n",
       "      <th>...</th>\n",
       "      <td>...</td>\n",
       "      <td>...</td>\n",
       "      <td>...</td>\n",
       "      <td>...</td>\n",
       "      <td>...</td>\n",
       "      <td>...</td>\n",
       "      <td>...</td>\n",
       "      <td>...</td>\n",
       "      <td>...</td>\n",
       "      <td>...</td>\n",
       "      <td>...</td>\n",
       "      <td>...</td>\n",
       "      <td>...</td>\n",
       "      <td>...</td>\n",
       "      <td>...</td>\n",
       "      <td>...</td>\n",
       "      <td>...</td>\n",
       "      <td>...</td>\n",
       "      <td>...</td>\n",
       "      <td>...</td>\n",
       "      <td>...</td>\n",
       "    </tr>\n",
       "    <tr>\n",
       "      <th>4219004</th>\n",
       "      <td>50dcec33bee519</td>\n",
       "      <td>3f8b442285e75a</td>\n",
       "      <td>fffe92232706aa</td>\n",
       "      <td>0</td>\n",
       "      <td>1</td>\n",
       "      <td>429.2</td>\n",
       "      <td>3</td>\n",
       "      <td>0</td>\n",
       "      <td>3</td>\n",
       "      <td>8</td>\n",
       "      <td>...</td>\n",
       "      <td>0</td>\n",
       "      <td>0</td>\n",
       "      <td>1911.00</td>\n",
       "      <td>9</td>\n",
       "      <td>0</td>\n",
       "      <td>0.5357</td>\n",
       "      <td>0</td>\n",
       "      <td>0</td>\n",
       "      <td>0</td>\n",
       "      <td>1</td>\n",
       "    </tr>\n",
       "    <tr>\n",
       "      <th>445384</th>\n",
       "      <td>682f6e6f66470f</td>\n",
       "      <td>abc744463b2dd4</td>\n",
       "      <td>fffe92232706aa</td>\n",
       "      <td>0</td>\n",
       "      <td>1</td>\n",
       "      <td>724.7</td>\n",
       "      <td>6</td>\n",
       "      <td>0</td>\n",
       "      <td>2</td>\n",
       "      <td>4</td>\n",
       "      <td>...</td>\n",
       "      <td>0</td>\n",
       "      <td>0</td>\n",
       "      <td>761.00</td>\n",
       "      <td>5</td>\n",
       "      <td>0</td>\n",
       "      <td>0.4286</td>\n",
       "      <td>0</td>\n",
       "      <td>0</td>\n",
       "      <td>0</td>\n",
       "      <td>1</td>\n",
       "    </tr>\n",
       "    <tr>\n",
       "      <th>1118609</th>\n",
       "      <td>56ea6b32521f5b</td>\n",
       "      <td>809d8288457e3d</td>\n",
       "      <td>fffe92232706aa</td>\n",
       "      <td>1</td>\n",
       "      <td>6</td>\n",
       "      <td>594.4</td>\n",
       "      <td>2</td>\n",
       "      <td>1</td>\n",
       "      <td>6</td>\n",
       "      <td>3</td>\n",
       "      <td>...</td>\n",
       "      <td>0</td>\n",
       "      <td>0</td>\n",
       "      <td>2706.00</td>\n",
       "      <td>7</td>\n",
       "      <td>0</td>\n",
       "      <td>1.0000</td>\n",
       "      <td>0</td>\n",
       "      <td>0</td>\n",
       "      <td>0</td>\n",
       "      <td>1</td>\n",
       "    </tr>\n",
       "    <tr>\n",
       "      <th>304989</th>\n",
       "      <td>54e7365e18a0b6</td>\n",
       "      <td>6cfbeead9e1050</td>\n",
       "      <td>fffe92232706aa</td>\n",
       "      <td>1</td>\n",
       "      <td>3</td>\n",
       "      <td>617.9</td>\n",
       "      <td>4</td>\n",
       "      <td>0</td>\n",
       "      <td>1</td>\n",
       "      <td>1</td>\n",
       "      <td>...</td>\n",
       "      <td>0</td>\n",
       "      <td>0</td>\n",
       "      <td>3344.00</td>\n",
       "      <td>7</td>\n",
       "      <td>0</td>\n",
       "      <td>0.9643</td>\n",
       "      <td>0</td>\n",
       "      <td>0</td>\n",
       "      <td>0</td>\n",
       "      <td>1</td>\n",
       "    </tr>\n",
       "    <tr>\n",
       "      <th>3416780</th>\n",
       "      <td>2228515b5207e3</td>\n",
       "      <td>577c4035451da4</td>\n",
       "      <td>fffe92232706aa</td>\n",
       "      <td>1</td>\n",
       "      <td>2</td>\n",
       "      <td>905.5</td>\n",
       "      <td>4</td>\n",
       "      <td>1</td>\n",
       "      <td>2</td>\n",
       "      <td>2</td>\n",
       "      <td>...</td>\n",
       "      <td>0</td>\n",
       "      <td>0</td>\n",
       "      <td>2725.00</td>\n",
       "      <td>5</td>\n",
       "      <td>0</td>\n",
       "      <td>0.6071</td>\n",
       "      <td>0</td>\n",
       "      <td>0</td>\n",
       "      <td>0</td>\n",
       "      <td>1</td>\n",
       "    </tr>\n",
       "  </tbody>\n",
       "</table>\n",
       "<p>4446965 rows × 33 columns</p>\n",
       "</div>"
      ],
      "text/plain": [
       "                     Id         groupId         matchId  assists  boosts  \\\n",
       "7931     a121348062f67a  7bd08592bb25e2  0000a43bce5eec        0       1   \n",
       "101714   731b2318b2adf2  8ebb76fe544c27  0000a43bce5eec        0       2   \n",
       "134000   503ae3c191575b  97364d4199bf30  0000a43bce5eec        0       0   \n",
       "310967   8bc0d095f488b4  767819928e6279  0000a43bce5eec        1       0   \n",
       "329124   2267f810807e22  e8ff1c0fe7f6aa  0000a43bce5eec        0       0   \n",
       "...                 ...             ...             ...      ...     ...   \n",
       "4219004  50dcec33bee519  3f8b442285e75a  fffe92232706aa        0       1   \n",
       "445384   682f6e6f66470f  abc744463b2dd4  fffe92232706aa        0       1   \n",
       "1118609  56ea6b32521f5b  809d8288457e3d  fffe92232706aa        1       6   \n",
       "304989   54e7365e18a0b6  6cfbeead9e1050  fffe92232706aa        1       3   \n",
       "3416780  2228515b5207e3  577c4035451da4  fffe92232706aa        1       2   \n",
       "\n",
       "         damageDealt  DBNOs  headshotKills  heals  killPlace  ...  teamKills  \\\n",
       "7931             0.0      0              0      1         41  ...          0   \n",
       "101714           0.0      0              0      4         45  ...          0   \n",
       "134000           0.0      0              0      0         78  ...          0   \n",
       "310967          81.9      0              0      0         67  ...          0   \n",
       "329124           0.0      0              0      0         84  ...          0   \n",
       "...              ...    ...            ...    ...        ...  ...        ...   \n",
       "4219004        429.2      3              0      3          8  ...          0   \n",
       "445384         724.7      6              0      2          4  ...          0   \n",
       "1118609        594.4      2              1      6          3  ...          0   \n",
       "304989         617.9      4              0      1          1  ...          0   \n",
       "3416780        905.5      4              1      2          2  ...          0   \n",
       "\n",
       "         vehicleDestroys  walkDistance  weaponsAcquired  winPoints  \\\n",
       "7931                   0       2723.00                3       1502   \n",
       "101714                 0       1241.00                3       1471   \n",
       "134000                 0         37.38                1       1476   \n",
       "310967                 0         93.47                2       1481   \n",
       "329124                 0         45.05                2       1460   \n",
       "...                  ...           ...              ...        ...   \n",
       "4219004                0       1911.00                9          0   \n",
       "445384                 0        761.00                5          0   \n",
       "1118609                0       2706.00                7          0   \n",
       "304989                 0       3344.00                7          0   \n",
       "3416780                0       2725.00                5          0   \n",
       "\n",
       "        winPlacePerc  duo  normal  solo  squad  \n",
       "7931          0.6667    0       0     0      1  \n",
       "101714        0.6296    0       0     0      1  \n",
       "134000        0.1111    0       0     0      1  \n",
       "310967        0.2593    0       0     0      1  \n",
       "329124        0.0741    0       0     0      1  \n",
       "...              ...  ...     ...   ...    ...  \n",
       "4219004       0.5357    0       0     0      1  \n",
       "445384        0.4286    0       0     0      1  \n",
       "1118609       1.0000    0       0     0      1  \n",
       "304989        0.9643    0       0     0      1  \n",
       "3416780       0.6071    0       0     0      1  \n",
       "\n",
       "[4446965 rows x 33 columns]"
      ]
     },
     "execution_count": 106,
     "metadata": {},
     "output_type": "execute_result"
    }
   ],
   "source": [
    "#unleaked Killplace\n",
    "#train.groupby([\"matchId\"])[\"kills\"]\n",
    "\n",
    "sort = train.sort_values([\"matchId\", 'kills'])\n",
    "sort\n",
    "\n",
    "#\n",
    "# killplace = 한 매치 안에서 킬을 한 순위"
   ]
  },
  {
   "cell_type": "code",
   "execution_count": 131,
   "metadata": {},
   "outputs": [],
   "source": [
    "train[\"KillPlace\"] = train.groupby(\"matchId\")[\"kills\"].transform('rank', ascending=False, method='dense')"
   ]
  },
  {
   "cell_type": "code",
   "execution_count": 132,
   "metadata": {},
   "outputs": [
    {
     "data": {
      "text/html": [
       "<div>\n",
       "<style scoped>\n",
       "    .dataframe tbody tr th:only-of-type {\n",
       "        vertical-align: middle;\n",
       "    }\n",
       "\n",
       "    .dataframe tbody tr th {\n",
       "        vertical-align: top;\n",
       "    }\n",
       "\n",
       "    .dataframe thead th {\n",
       "        text-align: right;\n",
       "    }\n",
       "</style>\n",
       "<table border=\"1\" class=\"dataframe\">\n",
       "  <thead>\n",
       "    <tr style=\"text-align: right;\">\n",
       "      <th></th>\n",
       "      <th>matchId</th>\n",
       "      <th>kills</th>\n",
       "      <th>killPlace</th>\n",
       "      <th>KillLPlace</th>\n",
       "    </tr>\n",
       "  </thead>\n",
       "  <tbody>\n",
       "    <tr>\n",
       "      <th>2471436</th>\n",
       "      <td>a10357fd1a4a91</td>\n",
       "      <td>3</td>\n",
       "      <td>12</td>\n",
       "      <td>4.0</td>\n",
       "    </tr>\n",
       "    <tr>\n",
       "      <th>1182186</th>\n",
       "      <td>a10357fd1a4a91</td>\n",
       "      <td>3</td>\n",
       "      <td>9</td>\n",
       "      <td>4.0</td>\n",
       "    </tr>\n",
       "    <tr>\n",
       "      <th>687216</th>\n",
       "      <td>a10357fd1a4a91</td>\n",
       "      <td>3</td>\n",
       "      <td>11</td>\n",
       "      <td>4.0</td>\n",
       "    </tr>\n",
       "    <tr>\n",
       "      <th>1386393</th>\n",
       "      <td>a10357fd1a4a91</td>\n",
       "      <td>3</td>\n",
       "      <td>7</td>\n",
       "      <td>4.0</td>\n",
       "    </tr>\n",
       "    <tr>\n",
       "      <th>1912681</th>\n",
       "      <td>a10357fd1a4a91</td>\n",
       "      <td>4</td>\n",
       "      <td>6</td>\n",
       "      <td>3.0</td>\n",
       "    </tr>\n",
       "    <tr>\n",
       "      <th>3958182</th>\n",
       "      <td>a10357fd1a4a91</td>\n",
       "      <td>4</td>\n",
       "      <td>4</td>\n",
       "      <td>3.0</td>\n",
       "    </tr>\n",
       "    <tr>\n",
       "      <th>4171661</th>\n",
       "      <td>a10357fd1a4a91</td>\n",
       "      <td>4</td>\n",
       "      <td>3</td>\n",
       "      <td>3.0</td>\n",
       "    </tr>\n",
       "    <tr>\n",
       "      <th>1584671</th>\n",
       "      <td>a10357fd1a4a91</td>\n",
       "      <td>4</td>\n",
       "      <td>5</td>\n",
       "      <td>3.0</td>\n",
       "    </tr>\n",
       "    <tr>\n",
       "      <th>2162806</th>\n",
       "      <td>a10357fd1a4a91</td>\n",
       "      <td>5</td>\n",
       "      <td>2</td>\n",
       "      <td>2.0</td>\n",
       "    </tr>\n",
       "    <tr>\n",
       "      <th>3692199</th>\n",
       "      <td>a10357fd1a4a91</td>\n",
       "      <td>7</td>\n",
       "      <td>1</td>\n",
       "      <td>1.0</td>\n",
       "    </tr>\n",
       "  </tbody>\n",
       "</table>\n",
       "</div>"
      ],
      "text/plain": [
       "                matchId  kills  killPlace  KillLPlace\n",
       "2471436  a10357fd1a4a91      3         12         4.0\n",
       "1182186  a10357fd1a4a91      3          9         4.0\n",
       "687216   a10357fd1a4a91      3         11         4.0\n",
       "1386393  a10357fd1a4a91      3          7         4.0\n",
       "1912681  a10357fd1a4a91      4          6         3.0\n",
       "3958182  a10357fd1a4a91      4          4         3.0\n",
       "4171661  a10357fd1a4a91      4          3         3.0\n",
       "1584671  a10357fd1a4a91      4          5         3.0\n",
       "2162806  a10357fd1a4a91      5          2         2.0\n",
       "3692199  a10357fd1a4a91      7          1         1.0"
      ]
     },
     "execution_count": 132,
     "metadata": {},
     "output_type": "execute_result"
    }
   ],
   "source": [
    "train[train.matchId==\"a10357fd1a4a91\"][['matchId','kills','killPlace','KillLPlace']].sort_values([\"kills\"]).tail(10)"
   ]
  },
  {
   "cell_type": "markdown",
   "metadata": {},
   "source": [
    "## Predict - Evaluation"
   ]
  },
  {
   "cell_type": "markdown",
   "metadata": {},
   "source": [
    "### Parameter Turning"
   ]
  },
  {
   "cell_type": "code",
   "execution_count": null,
   "metadata": {},
   "outputs": [],
   "source": []
  },
  {
   "cell_type": "markdown",
   "metadata": {},
   "source": [
    "### Prediction"
   ]
  },
  {
   "cell_type": "code",
   "execution_count": 70,
   "metadata": {},
   "outputs": [],
   "source": []
  },
  {
   "cell_type": "code",
   "execution_count": 92,
   "metadata": {},
   "outputs": [],
   "source": [
    "features = train.drop([\"Id\",\"groupId\", \"killPlace\", \"matchType\",\"matchId\",\"winPlacePerc\"], axis=1) #all\n",
    "target = train[\"winPlacePerc\"]\n",
    "train_X, test_X, train_y, test_y = train_test_split(features, target, test_size=0.2, random_state=589)\n"
   ]
  },
  {
   "cell_type": "code",
   "execution_count": 94,
   "metadata": {},
   "outputs": [
    {
     "data": {
      "text/html": [
       "<style>#sk-container-id-5 {color: black;background-color: white;}#sk-container-id-5 pre{padding: 0;}#sk-container-id-5 div.sk-toggleable {background-color: white;}#sk-container-id-5 label.sk-toggleable__label {cursor: pointer;display: block;width: 100%;margin-bottom: 0;padding: 0.3em;box-sizing: border-box;text-align: center;}#sk-container-id-5 label.sk-toggleable__label-arrow:before {content: \"▸\";float: left;margin-right: 0.25em;color: #696969;}#sk-container-id-5 label.sk-toggleable__label-arrow:hover:before {color: black;}#sk-container-id-5 div.sk-estimator:hover label.sk-toggleable__label-arrow:before {color: black;}#sk-container-id-5 div.sk-toggleable__content {max-height: 0;max-width: 0;overflow: hidden;text-align: left;background-color: #f0f8ff;}#sk-container-id-5 div.sk-toggleable__content pre {margin: 0.2em;color: black;border-radius: 0.25em;background-color: #f0f8ff;}#sk-container-id-5 input.sk-toggleable__control:checked~div.sk-toggleable__content {max-height: 200px;max-width: 100%;overflow: auto;}#sk-container-id-5 input.sk-toggleable__control:checked~label.sk-toggleable__label-arrow:before {content: \"▾\";}#sk-container-id-5 div.sk-estimator input.sk-toggleable__control:checked~label.sk-toggleable__label {background-color: #d4ebff;}#sk-container-id-5 div.sk-label input.sk-toggleable__control:checked~label.sk-toggleable__label {background-color: #d4ebff;}#sk-container-id-5 input.sk-hidden--visually {border: 0;clip: rect(1px 1px 1px 1px);clip: rect(1px, 1px, 1px, 1px);height: 1px;margin: -1px;overflow: hidden;padding: 0;position: absolute;width: 1px;}#sk-container-id-5 div.sk-estimator {font-family: monospace;background-color: #f0f8ff;border: 1px dotted black;border-radius: 0.25em;box-sizing: border-box;margin-bottom: 0.5em;}#sk-container-id-5 div.sk-estimator:hover {background-color: #d4ebff;}#sk-container-id-5 div.sk-parallel-item::after {content: \"\";width: 100%;border-bottom: 1px solid gray;flex-grow: 1;}#sk-container-id-5 div.sk-label:hover label.sk-toggleable__label {background-color: #d4ebff;}#sk-container-id-5 div.sk-serial::before {content: \"\";position: absolute;border-left: 1px solid gray;box-sizing: border-box;top: 0;bottom: 0;left: 50%;z-index: 0;}#sk-container-id-5 div.sk-serial {display: flex;flex-direction: column;align-items: center;background-color: white;padding-right: 0.2em;padding-left: 0.2em;position: relative;}#sk-container-id-5 div.sk-item {position: relative;z-index: 1;}#sk-container-id-5 div.sk-parallel {display: flex;align-items: stretch;justify-content: center;background-color: white;position: relative;}#sk-container-id-5 div.sk-item::before, #sk-container-id-5 div.sk-parallel-item::before {content: \"\";position: absolute;border-left: 1px solid gray;box-sizing: border-box;top: 0;bottom: 0;left: 50%;z-index: -1;}#sk-container-id-5 div.sk-parallel-item {display: flex;flex-direction: column;z-index: 1;position: relative;background-color: white;}#sk-container-id-5 div.sk-parallel-item:first-child::after {align-self: flex-end;width: 50%;}#sk-container-id-5 div.sk-parallel-item:last-child::after {align-self: flex-start;width: 50%;}#sk-container-id-5 div.sk-parallel-item:only-child::after {width: 0;}#sk-container-id-5 div.sk-dashed-wrapped {border: 1px dashed gray;margin: 0 0.4em 0.5em 0.4em;box-sizing: border-box;padding-bottom: 0.4em;background-color: white;}#sk-container-id-5 div.sk-label label {font-family: monospace;font-weight: bold;display: inline-block;line-height: 1.2em;}#sk-container-id-5 div.sk-label-container {text-align: center;}#sk-container-id-5 div.sk-container {/* jupyter's `normalize.less` sets `[hidden] { display: none; }` but bootstrap.min.css set `[hidden] { display: none !important; }` so we also need the `!important` here to be able to override the default hidden behavior on the sphinx rendered scikit-learn.org. See: https://github.com/scikit-learn/scikit-learn/issues/21755 */display: inline-block !important;position: relative;}#sk-container-id-5 div.sk-text-repr-fallback {display: none;}</style><div id=\"sk-container-id-5\" class=\"sk-top-container\"><div class=\"sk-text-repr-fallback\"><pre>LGBMRegressor()</pre><b>In a Jupyter environment, please rerun this cell to show the HTML representation or trust the notebook. <br />On GitHub, the HTML representation is unable to render, please try loading this page with nbviewer.org.</b></div><div class=\"sk-container\" hidden><div class=\"sk-item\"><div class=\"sk-estimator sk-toggleable\"><input class=\"sk-toggleable__control sk-hidden--visually\" id=\"sk-estimator-id-5\" type=\"checkbox\" checked><label for=\"sk-estimator-id-5\" class=\"sk-toggleable__label sk-toggleable__label-arrow\">LGBMRegressor</label><div class=\"sk-toggleable__content\"><pre>LGBMRegressor()</pre></div></div></div></div></div>"
      ],
      "text/plain": [
       "LGBMRegressor()"
      ]
     },
     "execution_count": 94,
     "metadata": {},
     "output_type": "execute_result"
    }
   ],
   "source": [
    "print(\"Fitting...\")\n",
    "model = LGBMRegressor()\n",
    "model.fit(train_X, train_y)"
   ]
  },
  {
   "cell_type": "code",
   "execution_count": 95,
   "metadata": {},
   "outputs": [],
   "source": [
    "pred_y = model.predict(test_X)"
   ]
  },
  {
   "cell_type": "code",
   "execution_count": 96,
   "metadata": {},
   "outputs": [
    {
     "data": {
      "text/plain": [
       "0.09097761953948993"
      ]
     },
     "execution_count": 96,
     "metadata": {},
     "output_type": "execute_result"
    }
   ],
   "source": [
    "print(\"MAE : \",np.round(mean_absolute_error(pred_y, test_y),6))"
   ]
  },
  {
   "cell_type": "markdown",
   "metadata": {},
   "source": [
    "### one more thing : "
   ]
  },
  {
   "cell_type": "code",
   "execution_count": null,
   "metadata": {},
   "outputs": [],
   "source": [
    "0.09071973631904867"
   ]
  },
  {
   "cell_type": "markdown",
   "metadata": {},
   "source": [
    "### Dummy"
   ]
  },
  {
   "cell_type": "markdown",
   "metadata": {},
   "source": [
    "        사용한 데이터: 29x4490000의 배그 승률예측 데이터.\n",
    "\n",
    "__1,__\n",
    ">편의상 칼럼을 주요 칼럼 4개만 뽑음.\n",
    "\n",
    "-  df A: 뽑은 칼럼의 이상치 제거(quantile 0.99)\n",
    "-  df B: 대조군\n",
    "\n",
    "\n",
    "\n",
    "df A,B를 train set과 validation set로 분리 후 fit-predict. 시드는 서로 같게.    \n",
    "그 결과, __이상치를 제거한 A가 B보다 성능 악화__ (6개의 시드 시행 전부에서)\n",
    "\n",
    "-----------\n",
    "__2,__\n",
    ">이번엔 전체 데이터에 대해서 동일한 시험 수행.\n",
    "\n",
    "-  df A: 다수 칼럼의 이상치 제거(quantile 0.99)\n",
    "-  df B: 대조군\n",
    "\n",
    "실험 1에서 사용한 6개의 시드 그대로 fit-predict 시행.   \n",
    "결과는 __이상치를 제거한 A가 B보다 성능이 대체로 우수했음.__ \n",
    "\n",
    "\n",
    "-  df C: 모든 칼럼을 사용하되, 실험 1에서 사용한 컬럼 4개에서만 이상치 제거.\n",
    "\n",
    "마찬가지 실험 결과, __C가 대조군 B보다 성능이 좋았음.__     \n",
    "실험 1과 상반되는 결과.\n",
    "\n",
    "-----------\n",
    "\n",
    "\n",
    "\n",
    "        실험 결과 : 데이터의 크기가 작았을 때는 이상치 제거가 성능을 떨어트렸음.    \n",
    "                    반면 데이터의 크기가 크다면 이상치 제거가 성능을 올림.\n",
    "                    크기가 작은 데이터와 동일한 이상치만을 제거했음에도 데이터의 크기가 커지면 오히려 성능을 올리는 요인으로 바뀜.\n",
    "어째서일까?\n",
    "\n",
    "\n",
    "사용한 model : lgbm, linear."
   ]
  },
  {
   "cell_type": "markdown",
   "metadata": {},
   "source": []
  }
 ],
 "metadata": {
  "interpreter": {
   "hash": "300c88f9336b0cc9f5d54a716189f33cff006261a6b20eaf0bcfdeec276d8ece"
  },
  "kernelspec": {
   "display_name": "Python 3.10.4 64-bit (windows store)",
   "language": "python",
   "name": "python3"
  },
  "language_info": {
   "codemirror_mode": {
    "name": "ipython",
    "version": 3
   },
   "file_extension": ".py",
   "mimetype": "text/x-python",
   "name": "python",
   "nbconvert_exporter": "python",
   "pygments_lexer": "ipython3",
   "version": "3.10.5"
  },
  "orig_nbformat": 4
 },
 "nbformat": 4,
 "nbformat_minor": 2
}
