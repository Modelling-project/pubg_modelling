{
 "cells": [
  {
   "cell_type": "markdown",
   "id": "306c5e6f",
   "metadata": {},
   "source": [
    "## PUBG Modelling"
   ]
  },
  {
   "cell_type": "markdown",
   "id": "d5ee5ad7",
   "metadata": {},
   "source": [
    "플레이어들이 전장에서 벌이는 모든 행위를 분류하여 승리를 예측하기 위한 프로젝트"
   ]
  },
  {
   "cell_type": "markdown",
   "id": "ebe999b5",
   "metadata": {},
   "source": [
    "## Column 별 정보\n",
    "- ASSISTS : 자신에 의해 사살되지는 못했지만 자신의 데미지 지분율이 가장 높은 적의 수\n",
    "- BOOSTS : 도핑 아이템 사용 횟수(에너지 드링크, 진통제, 아드레날린 주사기)\n",
    "- DAMAGEDEALT : 적에게 가한 전체 데미지\n",
    "- DBNOS : 기절시킨 적의 수\n",
    "- GROUPID : 경기 내 그룹 식별 ID\n",
    "- HEADSHOTKILLS : 헤드샷으로 죽인 적의 수\n",
    "- HEALS : 회복 아이템 사용 횟수(붕대, 구급상자, 의료용 키트)\n",
    "- ID : 해당 데이터 ID\n",
    "- KILLPLACE : 경기 내 적을 죽인 적 수의 순위\n",
    "- KILLPOINTS : 유저의 ELO레이팅(죽인 적 수 기반)\n",
    "- KILLS : 경기 내 적을 죽인 수\n",
    "- KILLSTREAKS : 짧은 시간 내에 연속으로 적을 죽인 수\n",
    "- LONGESTKILL : 사살한 적까지의 거리의 최대값\n",
    "- MATCHDURATION : 경기가 진행된 시간(단위:초)\n",
    "- MATCHID : 경기 식별 ID\n",
    "- MATCHTYPE : 경기 모드( ex: 솔로, 듀오, 스쿼드 )\n",
    "- MAXPLACE : 경기 내 총 인원 수\n",
    "- NUMGROUP : 경기 내 실제 참여 인원 수\n",
    "- RANKPOINTS : 유저의 ELO 레이팅\n",
    "- REVIVES : 유저가 팀원을 부활시킨 횟수\n",
    "- RIDEDISTANCE : 이동수단을 통해 이동한 거리(단위:m)\n",
    "- ROADKILLS : 이동수단으로 살해한 적의 수\n",
    "- SWIMDISTANCE : 수영으로 이동한 거리(단위:m)\n",
    "- TEAMKILLS : 같은 팀원을 살해한 수\n",
    "- VEHICLEDESTROYS : 파괴한 이동수단의 수\n",
    "- WALKDISTANCE : 도보로 이동한 거리(단위:m)\n",
    "- WEAPONSACQUIRED : 획득한 무기의 수\n",
    "- WINPOINTS : 유저의 ELO 레이팅(승리 횟수 기반)\n",
    "- WINPLACEPERC : 현재 경기에서의 백분위 기반 유저의 순위(종속변수)"
   ]
  },
  {
   "cell_type": "markdown",
   "id": "8e769ec8",
   "metadata": {},
   "source": [
    "## 라이브러리 및 데이터 불러오기"
   ]
  },
  {
   "cell_type": "markdown",
   "id": "6ec0c3e8",
   "metadata": {},
   "source": [
    "## 전처리"
   ]
  },
  {
   "cell_type": "markdown",
   "id": "1be0f7ae",
   "metadata": {},
   "source": [
    "## Column별 분석 "
   ]
  },
  {
   "cell_type": "code",
   "execution_count": null,
   "id": "657c894c",
   "metadata": {},
   "outputs": [],
   "source": []
  }
 ],
 "metadata": {
  "kernelspec": {
   "display_name": "Python 3 (ipykernel)",
   "language": "python",
   "name": "python3"
  },
  "language_info": {
   "codemirror_mode": {
    "name": "ipython",
    "version": 3
   },
   "file_extension": ".py",
   "mimetype": "text/x-python",
   "name": "python",
   "nbconvert_exporter": "python",
   "pygments_lexer": "ipython3",
   "version": "3.9.12"
  },
  "toc": {
   "base_numbering": 1,
   "nav_menu": {},
   "number_sections": true,
   "sideBar": true,
   "skip_h1_title": false,
   "title_cell": "Table of Contents",
   "title_sidebar": "Contents",
   "toc_cell": false,
   "toc_position": {},
   "toc_section_display": true,
   "toc_window_display": false
  }
 },
 "nbformat": 4,
 "nbformat_minor": 5
}
